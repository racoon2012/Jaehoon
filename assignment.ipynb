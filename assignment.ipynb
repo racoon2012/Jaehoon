{
 "metadata": {
  "name": "",
  "signature": "sha256:c88711bddf443ee5fb61bc1a766837f2cf893f601eb3dbe5d5de97c8b4052e24"
 },
 "nbformat": 3,
 "nbformat_minor": 0,
 "worksheets": [
  {
   "cells": [
    {
     "cell_type": "markdown",
     "metadata": {},
     "source": [
      "\ubb38\uc81c1"
     ]
    },
    {
     "cell_type": "code",
     "collapsed": false,
     "input": [
      "a = \"Hello World\"\n",
      "a = a[5:12] + ' ' + a[0:5]\n",
      "print a\n"
     ],
     "language": "python",
     "metadata": {},
     "outputs": [
      {
       "output_type": "stream",
       "stream": "stdout",
       "text": [
        " World Hello\n"
       ]
      }
     ],
     "prompt_number": 2
    },
    {
     "cell_type": "markdown",
     "metadata": {},
     "source": [
      "\ubb38\uc81c2"
     ]
    },
    {
     "cell_type": "code",
     "collapsed": false,
     "input": [
      "b = \"Hello Python World\"\n",
      "b =  b[13:19]+ ' ' +b[5:12] + ' ' + b[0:5]\n",
      "print b"
     ],
     "language": "python",
     "metadata": {},
     "outputs": [
      {
       "output_type": "stream",
       "stream": "stdout",
       "text": [
        "World  Python Hello\n"
       ]
      }
     ],
     "prompt_number": 2
    },
    {
     "cell_type": "code",
     "collapsed": false,
     "input": [
      "c = \"Hello\"\n",
      "c = c[::-1]\n",
      "print c"
     ],
     "language": "python",
     "metadata": {},
     "outputs": [
      {
       "output_type": "stream",
       "stream": "stdout",
       "text": [
        "olleH\n"
       ]
      }
     ],
     "prompt_number": 3
    },
    {
     "cell_type": "code",
     "collapsed": false,
     "input": [
      "s = \"python\"\n",
      "print s[0]\n",
      "print s[0][0]\n",
      "print s[0][0][0]"
     ],
     "language": "python",
     "metadata": {},
     "outputs": []
    },
    {
     "cell_type": "markdown",
     "metadata": {},
     "source": [
      "\ubb38\uc790\uc5d0 []\ub294 \uadf8 \uc548\uc5d0 [[]] \uc548 \uac1c\ub150\uc744 \ud3ec\ud568 \ud569\ub2c8\ub2e4. \uadf8\ub7ec\ub098 python \uc740 \ud55c \ud589\uc73c\ub85c\ub9cc \ub418\uc5b4 \uc788\uc5b4\uc11c \uc548\uc5d0 \uc548\uc744 \ud574\ub3c4 python \uc774\uace0 [0]\uc740 \ucc98\uc74c \uc22b\uc790\ub97c \ud45c\ud604\ud574\uc11c \uacc4\uc18d\ud574\uc11c p\uac00 \ucd9c\ub825\ub429\ub2c8\ub2e4"
     ]
    },
    {
     "cell_type": "code",
     "collapsed": false,
     "input": [
      "s = \"python\"\n",
      "print s[-100]\n",
      "\n",
      "print s[100]\n",
      "\n",
      "print s[-100,100]"
     ],
     "language": "python",
     "metadata": {},
     "outputs": [
      {
       "ename": "IndexError",
       "evalue": "string index out of range",
       "output_type": "pyerr",
       "traceback": [
        "\u001b[1;31m---------------------------------------------------------------------------\u001b[0m\n\u001b[1;31mIndexError\u001b[0m                                Traceback (most recent call last)",
        "\u001b[1;32m<ipython-input-4-80b9d463fa64>\u001b[0m in \u001b[0;36m<module>\u001b[1;34m()\u001b[0m\n\u001b[0;32m      1\u001b[0m \u001b[0ms\u001b[0m \u001b[1;33m=\u001b[0m \u001b[1;34m\"python\"\u001b[0m\u001b[1;33m\u001b[0m\u001b[0m\n\u001b[1;32m----> 2\u001b[1;33m \u001b[1;32mprint\u001b[0m \u001b[0ms\u001b[0m\u001b[1;33m[\u001b[0m\u001b[1;33m-\u001b[0m\u001b[1;36m100\u001b[0m\u001b[1;33m]\u001b[0m\u001b[1;33m\u001b[0m\u001b[0m\n\u001b[0m\u001b[0;32m      3\u001b[0m \u001b[1;33m\u001b[0m\u001b[0m\n\u001b[0;32m      4\u001b[0m \u001b[1;32mprint\u001b[0m \u001b[0ms\u001b[0m\u001b[1;33m[\u001b[0m\u001b[1;36m100\u001b[0m\u001b[1;33m]\u001b[0m\u001b[1;33m\u001b[0m\u001b[0m\n\u001b[0;32m      5\u001b[0m \u001b[1;33m\u001b[0m\u001b[0m\n",
        "\u001b[1;31mIndexError\u001b[0m: string index out of range"
       ]
      }
     ],
     "prompt_number": 4
    },
    {
     "cell_type": "markdown",
     "metadata": {},
     "source": [
      "s[-100] \uc740 \ub4a4\uc5d0\uc11c \ubd80\ud130 s \ubb38\uc790\ub97c \ucc3e\ub294\ub370 \uadf8 \uc548\uc5d0 \ub4e4\uc5b4 \uc788\ub294 \ubb38\uc790\uac00 \uc5c6\ub2e4\n",
      "s[100] \uc740 \ucc98\uc74c \ubd80\ud130 \ubb38\uc790\uc5f4\uc744 \ucc3e\ub294\ub370 \uadf8 \uac83\uc744 \ub118\uc5b4 \uac10\uc73c\ub85c \ubb38\uc790\uac00 \uc5c6\uc5b4 \uc5d0\ub7ec\uac00 \ub739\ub2c8\ub2e4.\n",
      "s[-100,100]\uc740 \uc5c6\ub294\uac78 \ud574\ubd10\uc57c \uc5c6\ub294\uac8c \ub098\uc635\ub2c8\ub2e4.\n",
      "\ud55c \ub9c8\ub514\ub85c \ubc94\uc704\ub97c \ub2e4 \ubc97\uc5b4 \ub0ac\uc2b5\ub2c8\ub2e4."
     ]
    },
    {
     "cell_type": "code",
     "collapsed": false,
     "input": [
      "print s[1:-1]"
     ],
     "language": "python",
     "metadata": {},
     "outputs": [
      {
       "output_type": "stream",
       "stream": "stdout",
       "text": [
        "ytho\n",
        "\n"
       ]
      }
     ],
     "prompt_number": 19
    },
    {
     "cell_type": "heading",
     "level": 1,
     "metadata": {},
     "source": [
      "python \uc758 \uc55e\uc5d0\uc11c 1(\ub450\ubc88\uc9f8) -1(\ub4a4\uc5d0\uc11c \ub450\ubc88\uc9f8) \uc0ac\uc774\uc758 \ubb38\uc790\uc5f4 \ucd9c\ub825"
     ]
    },
    {
     "cell_type": "code",
     "collapsed": false,
     "input": [
      "print s[3:-3]"
     ],
     "language": "python",
     "metadata": {},
     "outputs": [
      {
       "output_type": "stream",
       "stream": "stdout",
       "text": [
        "\n"
       ]
      }
     ],
     "prompt_number": 21
    },
    {
     "cell_type": "heading",
     "level": 3,
     "metadata": {},
     "source": [
      "python \uc744 \uc55e\uc5d0\uc11c 3\ubc88\uc9f8\uc640 \ub4a4\uc5d0\uc11c 3\ubc88\uc9f8 \ud558\uba74 h\uc640 t \uc778\ub370 \uadf8 \uc0ac\uc774\uc5d0\ub294 \uc544\ubb34\uac83\ub3c4 \uc5c6\uc5b4\uc11c \ucd9c\ub825\uc774 \uc548\ub429\ub2c8\ub2e4."
     ]
    },
    {
     "cell_type": "markdown",
     "metadata": {},
     "source": [
      "\ubb38\uc81c5"
     ]
    },
    {
     "cell_type": "code",
     "collapsed": false,
     "input": [
      "for x in range(0, 101):\n",
      "  if x % 2 == 1:\n",
      "    print x,"
     ],
     "language": "python",
     "metadata": {},
     "outputs": [
      {
       "output_type": "stream",
       "stream": "stdout",
       "text": [
        "1 3 5 7 9 11 13 15 17 19 21 23 25 27 29 31 33 35 37 39 41 43 45 47 49 51 53 55 57 59 61 63 65 67 69 71 73 75 77 79 81 83 85 87 89 91 93 95 97 99\n"
       ]
      }
     ],
     "prompt_number": 43
    },
    {
     "cell_type": "markdown",
     "metadata": {},
     "source": [
      "\ubb38\uc81c6"
     ]
    },
    {
     "cell_type": "code",
     "collapsed": false,
     "input": [
      "sum = 0\n",
      "b = 0\n",
      "\n",
      "while b < 100:\n",
      "    b = b + 2\n",
      "    sum = sum + b\n",
      "print sum"
     ],
     "language": "python",
     "metadata": {},
     "outputs": [
      {
       "output_type": "stream",
       "stream": "stdout",
       "text": [
        "2550\n"
       ]
      }
     ],
     "prompt_number": 57
    },
    {
     "cell_type": "markdown",
     "metadata": {},
     "source": [
      "\ubb38\uc81c7"
     ]
    },
    {
     "cell_type": "code",
     "collapsed": false,
     "input": [
      "num = input('int : ') \n",
      "\n",
      "for i in range(2, num + 1) :     \n",
      "    for j in range(2, i + 1) :   \n",
      "        if i % j == 0 :  \n",
      "            if i == j :   \n",
      "                print i, \n",
      "                break\n",
      "            break"
     ],
     "language": "python",
     "metadata": {},
     "outputs": [
      {
       "name": "stdout",
       "output_type": "stream",
       "stream": "stdout",
       "text": [
        "int : 10\n"
       ]
      },
      {
       "output_type": "stream",
       "stream": "stdout",
       "text": [
        "2 3 5 7\n"
       ]
      }
     ],
     "prompt_number": 1
    },
    {
     "cell_type": "code",
     "collapsed": false,
     "input": [],
     "language": "python",
     "metadata": {},
     "outputs": []
    }
   ],
   "metadata": {}
  }
 ]
}