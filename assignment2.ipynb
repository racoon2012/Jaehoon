{
 "metadata": {
  "name": "",
  "signature": "sha256:4be77f435733bec0e11c96bd83d2352f1911bcbcee7216b1c39f42531849b505"
 },
 "nbformat": 3,
 "nbformat_minor": 0,
 "worksheets": [
  {
   "cells": [
    {
     "cell_type": "markdown",
     "metadata": {},
     "source": [
      "#\ubb38\uc81c 1"
     ]
    },
    {
     "cell_type": "markdown",
     "metadata": {},
     "source": [
      "\ub2e4\uc74c 6 \uac1c\uc758 Expression\uc5d0 \ub300\ud574 Evaluation \uacb0\uacfc \uac12\uc744 \ucd9c\ub825\ud558\uace0, \n",
      "\ud574\ub2f9 \uacb0\uacfc\uac00 \ub098\uc628 \uc774\uc720\uc5d0 \ub300\ud574 \uc124\uba85\ud558\uc2dc\uc624\n",
      "1 and 2 and 3 and 4\n",
      "1 or 2 or 3 or 4\n",
      "1 and 2 or 3 and 4\n",
      "(1 and 2) or (3 and 4)\n",
      "1 or 2 and 3 or 4\n",
      "(1 or 2) and (3 or 4)"
     ]
    },
    {
     "cell_type": "code",
     "collapsed": false,
     "input": [
      "1 and 2 and 3 and 4"
     ],
     "language": "python",
     "metadata": {},
     "outputs": [
      {
       "metadata": {},
       "output_type": "pyout",
       "prompt_number": 4,
       "text": [
        "4"
       ]
      }
     ],
     "prompt_number": 4
    },
    {
     "cell_type": "code",
     "collapsed": false,
     "input": [
      "1 or 2 or 3 or 4"
     ],
     "language": "python",
     "metadata": {},
     "outputs": [
      {
       "metadata": {},
       "output_type": "pyout",
       "prompt_number": 5,
       "text": [
        "1"
       ]
      }
     ],
     "prompt_number": 5
    },
    {
     "cell_type": "code",
     "collapsed": false,
     "input": [
      "1 and 2 or 3 and 4"
     ],
     "language": "python",
     "metadata": {},
     "outputs": [
      {
       "metadata": {},
       "output_type": "pyout",
       "prompt_number": 6,
       "text": [
        "2"
       ]
      }
     ],
     "prompt_number": 6
    },
    {
     "cell_type": "code",
     "collapsed": false,
     "input": [
      "(1 and 2) or (3 and 4)"
     ],
     "language": "python",
     "metadata": {},
     "outputs": [
      {
       "metadata": {},
       "output_type": "pyout",
       "prompt_number": 7,
       "text": [
        "2"
       ]
      }
     ],
     "prompt_number": 7
    },
    {
     "cell_type": "code",
     "collapsed": false,
     "input": [
      "1 or 2 and 3 or 4"
     ],
     "language": "python",
     "metadata": {},
     "outputs": [
      {
       "metadata": {},
       "output_type": "pyout",
       "prompt_number": 8,
       "text": [
        "1"
       ]
      }
     ],
     "prompt_number": 8
    },
    {
     "cell_type": "code",
     "collapsed": false,
     "input": [
      "(1 or 2) and (3 or 4)"
     ],
     "language": "python",
     "metadata": {},
     "outputs": [
      {
       "metadata": {},
       "output_type": "pyout",
       "prompt_number": 10,
       "text": [
        "3"
       ]
      }
     ],
     "prompt_number": 10
    },
    {
     "cell_type": "markdown",
     "metadata": {},
     "source": [
      "and \ub4a4\ub97c \ubb34\uac8c\ub97c\ub450\uace0 \uc5f0\uc0b0\uc774(\uacf1\ud558\uae30\uc5f0\uc0b0) \ub4e4\uc5b4\uac00\uace0,\n",
      "or \uc5f0\uc0b0\uc740 \uc55e\uc744 \ubb34\uac8c\ub97c\ub450\uace0 \uc5f0\uc0b0\uc774 \ub4e4\uc5b4\uac11\ub2c8\ub2e4.\n",
      "\uadf8\ub9ac\uace0 or \ubcf4\ub2e4\ub294 and\uac00 \uc6b0\uc120 \uc21c\uc704\uac00 \ub192\uc2b5\ub2c8\ub2e4."
     ]
    },
    {
     "cell_type": "markdown",
     "metadata": {},
     "source": [
      "#\ubb38\uc81c2"
     ]
    },
    {
     "cell_type": "markdown",
     "metadata": {},
     "source": [
      "7/5, -7/5, -(7/5)\uc758 \uacb0\uacfc\ub97c \ud655\uc778\ud558\uace0 \uac01\uac01\uc758 \uacb0\uacfc\uac00 \uc65c \uadf8\ub807\uac8c \ub098\uc624\ub294 \uc9c0 \uc124\uba85\ud558\uc2dc\uc624\n",
      "[\ucc38\uace0] \ubaab\uc740 \ud56d\uc0c1 \uc74c\uc758 \ubb34\ud55c\ub300 \ubc29\ud5a5\uc73c\ub85c round up (\ubc18\uc62c\ub9bc) \ub41c\ub2e4\ub294 \uc810\uc744 \uae30\uc5b5\ud574\uc57c \ud568"
     ]
    },
    {
     "cell_type": "code",
     "collapsed": false,
     "input": [
      "7/5"
     ],
     "language": "python",
     "metadata": {},
     "outputs": [
      {
       "metadata": {},
       "output_type": "pyout",
       "prompt_number": 16,
       "text": [
        "1"
       ]
      }
     ],
     "prompt_number": 16
    },
    {
     "cell_type": "code",
     "collapsed": false,
     "input": [
      "-7/5"
     ],
     "language": "python",
     "metadata": {},
     "outputs": [
      {
       "metadata": {},
       "output_type": "pyout",
       "prompt_number": 17,
       "text": [
        "-2"
       ]
      }
     ],
     "prompt_number": 17
    },
    {
     "cell_type": "code",
     "collapsed": false,
     "input": [
      "-(7/5)"
     ],
     "language": "python",
     "metadata": {},
     "outputs": [
      {
       "metadata": {},
       "output_type": "pyout",
       "prompt_number": 19,
       "text": [
        "-1"
       ]
      }
     ],
     "prompt_number": 19
    },
    {
     "cell_type": "markdown",
     "metadata": {},
     "source": [
      "python\uc740 \uc790\ub3d9\uc73c\ub85c \uc815\uc218\uc5f0\uc0b0\uc744 \ud558\uae30 \ub54c\ubb38\uc5d0\n",
      "7\uc5d0\uc11c 5\ub97c \ub098\ub208 \ubaab \ub9cc \ud45c\uc2dc\ub418\uace0\n",
      "\uc74c\uc218\ub294 -7\uc5d0\ub294 5\ub97c \ub098\ub208 \ubaab\uc740 -5 \uc774\uace0\n",
      "-(7/5)\ub294 7\ub098\ub204\uae30 5\ub97c \uba3c\uc838 \ud558\uace0 \uadf8 \ub2e4\uc74c -1 \uc74c\uc218\ub97c \uacf1\ud55c\uac83\uc774\ub2e4."
     ]
    },
    {
     "cell_type": "markdown",
     "metadata": {},
     "source": [
      "#\ubb38\uc81c3"
     ]
    },
    {
     "cell_type": "markdown",
     "metadata": {},
     "source": [
      "\ud0a4\ubcf4\ub4dc\ub85c \uc815\uc218\uac12\uc744 \uc785\ub825 \ubc1b\uace0 \uadf8 \uac12\uc774 \uc591\uc218\uc778\uc9c0 \uc74c\uc218\uc778\uc9c0\ub97c \ube44\ud2b8 \uc5f0\uc0b0\uc790\ub97c \uc774\uc6a9\ud558\uc5ec \ud310\ub2e8\ud558\ub294 \ud504\ub85c\uadf8\ub7a8\uc744 \uc791\uc131\ud558\uc2dc\uc624.\n",
      "[\ucc38\uace0] \uac00\uc7a5 \uc67c\ucabd\uc5d0 \uc788\ub294 \ube44\ud2b8\uac00 0\uc774\uba74 \uc591\uc218\uc774\uba70, 1\uc774\uba74 \uc74c\uc218\uc774\ub2e4."
     ]
    },
    {
     "cell_type": "code",
     "collapsed": false,
     "input": [
      "n = input(\"Enter a number: \")\n",
      "if n >> 7 == 0:\n",
      "        print 'positive'\n",
      "else:\n",
      "        print 'negative'\n",
      "    "
     ],
     "language": "python",
     "metadata": {},
     "outputs": [
      {
       "name": "stdout",
       "output_type": "stream",
       "stream": "stdout",
       "text": [
        "Enter a number: 13\n"
       ]
      },
      {
       "output_type": "stream",
       "stream": "stdout",
       "text": [
        "positive\n"
       ]
      }
     ],
     "prompt_number": 1
    },
    {
     "cell_type": "markdown",
     "metadata": {},
     "source": [
      "0000 0000 \ube44\ud2b8\uc5d0\uc11c \uc624\ub978\ucabd\uc73c\ub85c 7\ubc88\uc774\ub3d9\ud558\uba74 0\uc774 \ub418\ubbc0\ub85c \uadf8\uac83\uc778\uac74\uc740 \uc591\uc218\uc774\uace0 \uadf8\ub807\uc9c0 \uc54a\uc740\uac83\uc740 \uc74c\uc218 \uc785\ub2c8\ub2e4."
     ]
    },
    {
     "cell_type": "markdown",
     "metadata": {},
     "source": [
      "#\ubb38\uc81c 4"
     ]
    },
    {
     "cell_type": "markdown",
     "metadata": {},
     "source": [
      "\ub450 \uac1c\uc758 \ub9ac\uc2a4\ud2b8\ub97c \uc778\uc790\ub85c \ubc1b\uc544\uc11c \uadf8 \ub450 \uac1c\uc758 \ub9ac\uc2a4\ud2b8\uc5d0 \ub300\ud55c '\ud569\uc9d1\ud569'\uc744 \ubc18\ud658\ud558\ub294 \ud568\uc218 list_union(lista, listb)\ub97c \uc791\uc131\ud558\uc2dc\uc624.\n",
      "\uc778\uc790\ub85c \uc804\ub2ec\ud558\ub294 \ub9ac\uc2a4\ud2b8 2 \uac1c\uc5d0\ub294 \uc815\uc218\uac12\ub9cc \ub4e4\uc5b4\uac04\ub2e4\uace0 \uac00\uc815\ud558\uc790.\n",
      "\ud568\uc218 \ub0b4\uc5d0\uc11c \uc0c8\ub85c\uc6b4 \ub9ac\uc2a4\ud2b8\ub97c \ub9cc\ub4e4\uc5b4 \uadf8 \ub9ac\uc2a4\ud2b8 \ub0b4\uc5d0 \uc778\uc790\ub85c \ubc1b\uc740 \ub450 \ub9ac\uc2a4\ud2b8\uc758 \ubaa8\ub4e0 \uc6d0\uc18c\ub97c \ub123\uc5b4 \ubc18\ud658\ud55c\ub2e4.\n",
      "\ubc18\ud658\ud558\ub294 \ub9ac\uc2a4\ud2b8\uc5d0\ub294 \uc808\ub300\ub85c \uc911\ubcf5\ub41c \uc6d0\uc18c\uac00 \ub4e4\uc5b4 \uc788\uc73c\uba74 \uc548\ub41c\ub2e4 (\uc9d1\ud569\uc758 \uc870\uac74).\n",
      "\ubc18\ud658\ud558\ub294 \ub9ac\uc2a4\ud2b8\ub294 \uc815\ub82c\uc774 \ub418\uc5b4 \uc788\uc5b4\uc57c \ud55c\ub2e4.\n",
      "\ub2e4\uc74c\uacfc \uac19\uc740 \uc2e4\ud589 \ubc0f \ucd9c\ub825 \uacb0\uacfc\uac00 \ub3c4\ucd9c\ub418\uc5b4\uc57c \ud55c\ub2e4.\n",
      "list_union([1, 2, 3], [1, 2, 4])\n",
      "[1, 2, 3, 4]\n",
      "list_union([-10, -5, 0, -1], [100, 9, 0, 9])\n",
      "[-10, -5, -1, 0, 9, 100]\n",
      "list_union([0, 1, 2], [0, 1, 2])\n",
      "[0, 1, 2]\n",
      "[\ucc38\uace0] \ub9ac\uc2a4\ud2b8(l) \ub0b4\uc5d0 \uc0c8\ub85c\uc6b4 \uc815\uc218\uac12 (\uc608\ub97c \ub4e4\uc5b4 10)\uc744 \ub123\ub294 \ubc29\ubc95\uc740 l.append(10) \uc774\ub2e4.\n",
      "[\ucc38\uace0] \uc784\uc758\uc758 \uc815\uc218\uac12 (x)\uc774 \ub9ac\uc2a4\ud2b8 (l) \ub0b4\uc5d0 \uc874\uc7ac\ud558\ub294\uc9c0 \ud310\ub2e8\ud558\ub294 \ubc29\ubc95\uc740 x in l \uc774\ub2e4."
     ]
    },
    {
     "cell_type": "code",
     "collapsed": false,
     "input": [
      "def list_union(lista, listb) :\n",
      "    union = []\n",
      "    a = len(lista)\n",
      "    b = len(listb)\n",
      "    for x in range(a) :\n",
      "        if (lista[x] in union) :\n",
      "            continue\n",
      "        else :\n",
      "            union.append(lista[x])\n",
      "    for y in range(b) :\n",
      "        if (listb[y] in union) :\n",
      "            continue\n",
      "        else :\n",
      "            union.append(listb[y])\n",
      "    union.sort()\n",
      "    print union"
     ],
     "language": "python",
     "metadata": {},
     "outputs": [],
     "prompt_number": 2
    },
    {
     "cell_type": "code",
     "collapsed": false,
     "input": [
      "list_union([1,2,3,4,5],[3,5,6,7,8,10])"
     ],
     "language": "python",
     "metadata": {},
     "outputs": [
      {
       "output_type": "stream",
       "stream": "stdout",
       "text": [
        "[1, 2, 3, 4, 5, 6, 7, 8, 10]\n"
       ]
      }
     ],
     "prompt_number": 3
    },
    {
     "cell_type": "markdown",
     "metadata": {},
     "source": [
      "lista\uc640 listb\ub97c \uba3c\uc838 list\ub85c \ubc1b\uc2b5\ub2c8\ub2e4. lista \uc640 listb \ub97c union \ud569\ub2c8\ub2e4\n",
      "\ub9c8\uc9c0\ub9c9\uc73c\ub85c union.sort() \ud574\uc11c \uc815\ub82c \ud558\uc600\uc2b5\ub2c8\ub2e4."
     ]
    },
    {
     "cell_type": "markdown",
     "metadata": {},
     "source": [
      "# \ubb38\uc81c 5"
     ]
    },
    {
     "cell_type": "markdown",
     "metadata": {},
     "source": [
      "\uacbd\ub85c\uc5d0 \ud574\ub2f9\ud558\ub294 \ubb38\uc790\uc5f4 1\uac1c\ub97c \uc785\ub825 \ubc1b\uc544 \uadf8 \uc548\uc5d0 \ub514\ub809\ud1a0\ub9ac \uacbd\ub85c\uba85\uacfc \ud30c\uc77c\uba85\uc744 \ubd84\ub9ac\ud558\uc5ec \ub9ac\uc2a4\ud2b8\ub85c \ubc18\ud658\ud558\ub294 \ud568\uc218 div_path(s)\ub97c \uc791\uc131\ud558\uc2dc\uc624.\n",
      "\uc778\uc790\ub85c \uc804\ub2ec\ud558\ub294 \ubb38\uc790\uc5f4\uc740 \uacbd\ub85c\ub9cc \ub4e4\uc5b4\uac04\ub2e4\uace0 \uac00\uc815\ud55c\ub2e4.\n",
      "\uac01 \ub514\ub809\ud1a0\ub9ac\uc640 \ud30c\uc77c\uc744 \uad6c\ubd84\ud558\ub294 \ubb38\uc790\ub294 '/'\ub85c \uac00\uc815\ud55c\ub2e4.\n",
      "\ubc18\ud658\ud558\ub294 \ub9ac\uc2a4\ud2b8\uc758 \uccab\ubc88\uc9f8 \uc6d0\uc18c\ub294 \ub514\ub809\ud1a0\ub9ac\uc774\uace0 \ub450\ubc88\uc9f8 \uc6d0\uc18c\ub294 \ud30c\uc77c\uba85\uc774\ub2e4.\n",
      "\ub2e4\uc74c\uacfc \uac19\uc740 \uc2e4\ud589 \ubc0f \ucd9c\ub825 \uacb0\uacfc\uac00 \ub3c4\ucd9c\ub418\uc5b4\uc57c \ud55c\ub2e4.\n",
      "div_path('/usr/local/bin/python')\n",
      "['/usr/local/bin', 'python']\n",
      "div_path('/home/chulsoo/test.txt')\n",
      "['/home/chulsoo', 'test.txt']"
     ]
    },
    {
     "cell_type": "code",
     "collapsed": false,
     "input": [
      "def div_path(s = '/usr/local/bin/python') :\n",
      "    print s.rsplit('/', 1)\n",
      "    \n",
      "div_path('/home/j.will/python/test.txt')\n"
     ],
     "language": "python",
     "metadata": {},
     "outputs": [
      {
       "output_type": "stream",
       "stream": "stdout",
       "text": [
        "['/home/j.will/python', 'test.txt']\n"
       ]
      }
     ],
     "prompt_number": 5
    },
    {
     "cell_type": "markdown",
     "metadata": {},
     "source": [
      "div_path \uc5d0\uc11c rsplit \uc5ed\uc73c\ub85c \ud574\uc11c /test.txt\ub97c \ucd94\ucd9c\ud574 \ub0c8\uc2b5\ub2c8\ub2e4."
     ]
    },
    {
     "cell_type": "markdown",
     "metadata": {},
     "source": [
      "# \ubb38\uc81c6"
     ]
    },
    {
     "cell_type": "markdown",
     "metadata": {},
     "source": [
      "\uc6f9 URL\ub85c \uc9c0\uc815\ub41c \uc6f9\ud398\uc774\uc9c0\ub97c \ubb38\uc790\uc5f4\ub85c \uac00\uc838\uc640 1) \ubaa8\ub4e0 HTML \ud0dc\uadf8 \ubc0f CSS\uc640 Javascript\ub97c \uc81c\uc678\ud55c \uc21c\uc218 \ud14d\uc2a4\ud2b8\ub9cc\uc744 \ucd9c\ub825\ud558\uace0, 2) \uadf8 \uc21c\uc218 \ud14d\uc2a4\ud2b8 \uc548\uc5d0 \uc874\uc7ac\ud558\ub294 \ub2e8\uc5b4\uac00 \ucd1d \uba87\uac1c\uc778\uc9c0 \ucd9c\ub825\ud558\ub294 \ud504\ub85c\uadf8\ub7a8\uc744 \uc791\uc131\ud558\uc2dc\uc624.\n",
      "HTML \ud0dc\uadf8\ub294 \ub2e4\uc74c \uc870\uac74\uc744 \uac00\uc9c0\ub294 \uac83\uc774\ub2e4.\n",
      "< \ub85c \uc2dc\uc791\ud558\uc5ec >\ub85c \ub05d\ub098\uac70\ub098 />\ub85c \ub05d\ub09c\ub2e4.\n",
      "</ \ub85c \uc2dc\uc791\ud558\uc5ec > \ub85c \ub05d\ub09c\ub2e4.\n",
      "HTML \ubb38\uc11c \ub0b4\uc5d0 \uc874\uc7ac\ud558\ub294 CSS \uc0ad\uc81c\uc2dc \ucc38\uace0\ud560 \uc0ac\ud56d\n",
      "<style> \ud639\uc740 <STYLE>\ub85c \uc2dc\uc791\ud55c\ub2e4.\n",
      "</style> \ud639\uc740 </STYLE>\ub85c \ub05d\ub09c\ub2e4.\n",
      "<style> (\ud639\uc740 <STYLE>)\uacfc </style> (\ud639\uc740 </STYLE>) \ub0b4\uc5d0 \uc874\uc7ac\ud558\ub294 CSS \ucf54\ub4dc\ub294 \ubaa8\ub450 \uc0ad\uc81c\ud55c\ub2e4.\n",
      "HTML \ubb38\uc11c \ub0b4\uc5d0 \uc874\uc7ac\ud558\ub294 Javascript \uc0ad\uc81c\uc2dc \ucc38\uace0\ud560 \uc0ac\ud56d\n",
      "<script> \ud639\uc740 <SCRIPT>\ub85c \uc2dc\uc791\ud55c\ub2e4.\n",
      "</script> \ud639\uc740 </SCRIPT>\ub85c \ub05d\ub09c\ub2e4.\n",
      "<script> (\ud639\uc740 <SCRIPT>)\uacfc </script> (\ud639\uc740 </SCRIPT>) \ub0b4\uc5d0 \uc874\uc7ac\ud558\ub294 Javascript \ucf54\ub4dc\ub294 \ubaa8\ub450 \uc0ad\uc81c\ud55c\ub2e4.\n",
      "\uc989, CSS \ucf54\ub4dc\uc640 Javascript \ucf54\ub4dc\ub294 \ub2e8\uc5b4\uc758 \ucd1d\uc218\ub97c \uce74\uc6b4\ud2b8 \ud560 \ub54c \uace0\ub824\ud558\uc9c0 \uc54a\ub294\ub2e4.\n",
      "\ub2e8\uc5b4\ub97c \ub098\ub204\ub294 \uae30\uc900\uc740 \uc624\ub85c\uc9c0 \uacf5\ubc31\ubb38\uc790\uc774\ub2e4.\n",
      "\ub2e4\uc74c \ucf54\ub4dc \ud65c\uc6a9\n",
      "import string\n",
      "c in string.whitespace\n",
      "\ud55c\ud3b8, \ub2e4\uc74c\uc740 URL\ub85c \uc9c0\uc815\ub41c \uc6f9\ud398\uc774\uc9c0\ub97c \ud2b9\uc815 \ubb38\uc790\uc5f4\ub85c \uac00\uc838\uc624\ub294 \ucf54\ub4dc\uc774\ub2e4."
     ]
    },
    {
     "cell_type": "code",
     "collapsed": false,
     "input": [
      "import urllib\n",
      "s = urllib.urlopen('http://www.python.org/').read()\n",
      "sentence = \"\"\n",
      "\n",
      "for x in range(10000) :\n",
      "    if s.find('<style') == 0 :\n",
      "        s = s[s.find('</style>')+8:]\n",
      "    elif s.find('<STYLE') == 0 :\n",
      "        s = s[s.find('</STYLE>')+8:]\n",
      "    elif s.find('<script') == 0 :\n",
      "        s = s[s.find('</script>')+9:]\n",
      "    elif s.find('<SCRIPT') == 0 :\n",
      "        s = s[s.find('</SCRIPT>')+9:]\n",
      "    elif s.find('<') == 0 :\n",
      "        s = s[s.find('>')+1:]\n",
      "    elif s.find('>') == 0:\n",
      "        s = s[s.find('>>')+1:]\n",
      "    else :\n",
      "        sentence += s[:s.find('<')]\n",
      "        s  = s[s.find('<'):]\n",
      "\n",
      "count = sentence.split()\n",
      "print count\n",
      "print '\\nAll words :', \n",
      "print len(count)"
     ],
     "language": "python",
     "metadata": {},
     "outputs": [
      {
       "output_type": "stream",
       "stream": "stdout",
       "text": [
        "['Welcome', 'to', 'Python.org', 'Skip', 'to', 'content', '&#9660;', 'Close', 'Python', 'PSF', 'Docs', 'PyPI', 'Jobs', 'Community', '&#9650;', 'The', 'Python', 'Network', '&equiv;', 'Menu', 'Search', 'This', 'Site', 'GO', 'A', 'A', 'Smaller', 'Larger', 'Reset', 'Socialize', 'Google+', 'Facebook', 'Twitter', 'IRC', 'on', 'Freenode', 'Sign', 'In', 'Sign', 'Up', '/', 'Register', 'Sign', 'In', 'About', 'Applications', 'Quotes', 'Getting', 'Started', 'Help', 'Downloads', 'All', 'releases', 'Source', 'code', 'Windows', 'Mac', 'OS', 'X', 'Other', 'Platforms', 'License', 'Alternative', 'Implementations', 'Documentation', 'Docs', 'Audio/Visual', 'Talks', 'Beginner&#39;s', 'Guide', 'Developer&#39;s', 'Guide', 'FAQ', 'Non-English', 'Docs', 'PEP', 'Index', 'Python', 'Books', 'Community', 'Diversity', 'IRC', 'Mailing', 'Lists', 'Python', 'Conferences', 'Special', 'Interest', 'Groups', 'Python', 'Wiki', 'Python', 'Logo', 'Merchandise', 'Community', 'Awards', 'Success', 'Stories', 'Arts', 'Business', 'Education', 'Engineering', 'Government', 'Scientific', 'Software', 'Development', 'News', 'Python', 'News', 'Community', 'News', 'PSF', 'News', 'PyCon', 'News', 'Events', 'Python', 'Events', 'User', 'Group', 'Events', 'Python', 'Events', 'Archive', 'User', 'Group', 'Events', 'Archive', 'Submit', 'an', 'Event', '&gt;_', 'Launch', 'Interactive', 'Shell', '#', 'Python', '3:', 'Fibonacci', 'series', 'up', 'to', 'n', '>>>', 'def', 'fib(n):', '>>>', 'a,', 'b', '=', '0,', '1', '>>>', 'while', 'a', '&lt;', 'n:', '>>>', 'print(a,', \"end='\", \"')\", '>>>', 'a,', 'b', '=', 'b,', 'a+b', '>>>', 'print()', '>>>', 'fib(1000)', '0', '1', '1', '2', '3', '5', '8', '13', '21', '34', '55', '89', '144', '233', '377', '610', 'Functions', 'Defined', 'The', 'core', 'of', 'extensible', 'programming', 'is', 'defining', 'functions.', 'Python', 'allows', 'mandatory', 'and', 'optional', 'arguments,', 'keyword', 'arguments,', 'and', 'even', 'arbitrary', 'argument', 'lists.', 'More', 'about', 'defining', 'functions', 'in', 'Python&nbsp;3', '#', 'Python', '3:', 'For', 'loop', 'on', 'a', 'list', '>>>', 'list', '=', '[2,', '4,', '6,', '8]', '>>>', 'sum', '=', '0', '>>>', 'for', 'num', 'in', 'list:', '>>>', 'sum', '=', 'sum', '+', 'num', '>>>', 'print(\"The', 'sum', 'is:\",', 'sum)', 'The', 'sum', 'is:', '20', 'All', 'the', 'Flow', 'You&rsquo;d', 'Expect', 'Python', 'knows', 'the', 'usual', 'control', 'flow', 'statements', 'that', 'other', 'languages', 'speak', '&mdash;', 'if,', 'for,', 'while', 'and', 'range', '&mdash;', 'with', 'some', 'of', 'its', 'own', 'twists,', 'of', 'course.', 'More', 'control', 'flow', 'tools', 'in', 'Python&nbsp;3', '#', 'Python', '3:', 'Simple', 'output', '(with', 'Unicode)', '>>>', 'print(\"Hello,', \"I'm\", 'Python!\")', 'Hello,', \"I'm\", 'Python!', '#', 'Input,', 'assignment', '>>>', 'name', '=', \"input('What\", 'is', 'your', \"name?\\\\n')\", '>>>', \"print('Hi,\", \"%s.'\", '%', 'name)', 'What', 'is', 'your', 'name?', 'Python', 'Hi,', 'Python.', 'Quick', '&amp;', 'Easy', 'to', 'Learn', 'Experienced', 'programmers', 'in', 'any', 'other', 'language', 'can', 'pick', 'up', 'Python', 'very', 'quickly,', 'and', 'beginners', 'find', 'the', 'clean', 'syntax', 'and', 'indentation', 'structure', 'easy', 'to', 'learn.', 'Whet', 'your', 'appetite', 'with', 'our', 'Python&nbsp;3', 'overview.', '#', 'Python', '3:', 'List', 'comprehensions', '>>>', 'fruits', '=', \"['Banana',\", \"'Apple',\", \"'Lime']\", '>>>', 'loud_fruits', '=', '[fruit.upper()', 'for', 'fruit', 'in', 'fruits]', '>>>', 'print(loud_fruits)', \"['BANANA',\", \"'APPLE',\", \"'LIME']\", '#', 'List', 'and', 'the', 'enumerate', 'function', '>>>', 'list(enumerate(fruits))', '[(0,', \"'Banana'),\", '(1,', \"'Apple'),\", '(2,', \"'Lime')]\", 'Compound', 'Data', 'Types', 'Lists', '(known', 'as', 'arrays', 'in', 'other', 'languages)', 'are', 'one', 'of', 'the', 'compound', 'data', 'types', 'that', 'Python', 'understands.', 'Lists', 'can', 'be', 'indexed,', 'sliced', 'and', 'manipulated', 'with', 'other', 'built-in', 'functions.', 'More', 'about', 'lists', 'in', 'Python&nbsp;3', '#', 'Python', '3:', 'Simple', 'arithmetic', '>>>', '1', '/', '2', '0.5', '>>>', '2', '**', '3', '8', '>>>', '17', '/', '3', '#', 'classic', 'division', 'returns', 'a', 'float', '5.666666666666667', '>>>', '17', '//', '3', '#', 'floor', 'division', '5', 'Intuitive', 'Interpretation', 'Calculations', 'are', 'simple', 'with', 'Python,', 'and', 'expression', 'syntax', 'is', 'straightforward:', 'the', 'operators', '+,', '-,', '*', 'and', '/', 'work', 'as', 'expected;', 'parentheses', '()', 'can', 'be', 'used', 'for', 'grouping.', 'More', 'about', 'simple', 'math', 'functions', 'in', 'Python&nbsp;3.', 'Python', 'is', 'a', 'programming', 'language', 'that', 'lets', 'you', 'work', 'quickly', 'and', 'integrate', 'systems', 'more', 'effectively.', 'Learn', 'More', 'Get', 'Started', 'Whether', \"you're\", 'new', 'to', 'programming', 'or', 'an', 'experienced', 'developer,', \"it's\", 'easy', 'to', 'learn', 'and', 'use', 'Python.', 'Start', 'with', 'our', 'Beginner&rsquo;s', 'Guide', 'Download', 'Python', 'source', 'code', 'and', 'installers', 'are', 'available', 'for', 'download', 'for', 'all', 'versions!', 'Not', 'sure', 'which', 'version', 'to', 'use?', 'Check', 'here.', 'Latest:', 'Python', '3.4.1', '-', 'Python', '2.7.8', 'Docs', 'Documentation', 'for', \"Python's\", 'standard', 'library,', 'along', 'with', 'tutorials', 'and', 'guides,', 'are', 'available', 'online.', 'docs.python.org', 'Jobs', 'Looking', 'for', 'work', 'or', 'have', 'a', 'Python', 'related', 'position', 'that', \"you're\", 'trying', 'to', 'hire', 'for?', 'Our', 'community-run', 'job', 'board', 'is', 'the', 'place', 'to', 'go.', 'jobs.python.org', 'Latest', 'News', 'More', '2014-08-01', 'Python', '3.4.1', 'was', 'released', 'on', 'May', '18th,', '2014,', 'with', 'over', '...', '2014-03-17', 'Python', '3.4.0', 'has', 'been', 'released', 'today.', 'Python', '3.4', 'includes', 'a', '...', '2014-03-11', 'A', 'new', 'bugfix', 'release,', 'Python', '3.3.5,', 'has', 'been', 'issued', 'to', '...', '2014-03-11', 'The', 'third', 'release', 'candidate', 'for', 'Python', '3.4', 'has', 'been', 'released.', '...', '2014-02-20', 'The', 'first', 'release', 'candidate', 'for', 'Python', '3.4,', 'Python', '3.4.0rc1,', 'has', '...', 'Upcoming', 'Events', 'More', '2014-09-30', 'Guadalajara,', 'Mexico', 'PUG', '2014-09-30', 'Python', 'Meeting', 'D\\xc3\\xbcsseldorf', '(PyDDF)', '2014-10-02', 'PyConZA', '2014', '2014-10-03', 'PyTexas', '2014', '2014-10-07', 'Fox', 'Valley', 'Python', 'User', 'Group', '(WI,', 'USA)', 'Success', 'Stories', 'More', 'ILM', 'runs', 'a', 'batch', 'processing', 'environment', 'capable', 'of', 'modeling,', 'rendering', 'and', 'compositing', 'tens', 'of', 'thousands', 'of', 'motion', 'picture', 'frames', 'per', 'day.', 'Thousands', 'of', 'machines', 'running', 'Linux,', 'IRIX,', 'Compaq', 'Tru64,', 'OS', 'X,', 'Solaris,', 'and', 'Windows', 'join', 'together', 'to', 'provide', 'a', 'production', 'pipeline', 'used', 'by', '~800', 'users', 'daily.', 'Speed', 'of', 'development', 'is', 'key,', 'and', 'Python', 'was', 'a', 'faster', 'way', 'to', 'code', '(and', 're-code)', 'the', 'programs', 'that', 'control', 'this', 'production', 'pipeline.', 'Industrial', 'Light', '&amp;', 'Magic', 'Runs', 'on', 'Python', 'by', 'Tim', 'Fortenberry', 'Use', 'Python', 'for&hellip;', 'More', 'Web', 'Programming:', 'Django,', 'Pyramid,', 'Bottle,', 'Tornado,', 'Flask,', 'web2py', 'GUI', 'Development:', 'wxPython,', 'tkInter,', 'PyGtk,', 'PyQt', 'Scientific', 'and', 'Numeric:', 'SciPy,', 'Pandas,', 'IPython', 'Software', 'Development:', 'Buildbot,', 'Trac,', 'Roundup', 'System', 'Administration:', 'Ansible,', 'Salt,', 'OpenStack', '&gt;&gt;&gt;', 'Python', 'Enhancement', 'Proposals', '(PEPs):', 'The', 'future', 'of', 'Python', 'is', 'discussed', 'here.', 'RSS', '&gt;&gt;&gt;', 'Python', 'Software', 'Foundation', 'The', 'mission', 'of', 'the', 'Python', 'Software', 'Foundation', 'is', 'to', 'promote,', 'protect,', 'and', 'advance', 'the', 'Python', 'programming', 'language,', 'and', 'to', 'support', 'and', 'facilitate', 'the', 'growth', 'of', 'a', 'diverse', 'and', 'international', 'community', 'of', 'Python', 'programmers.', 'Learn', 'more', 'Become', 'a', 'Member', 'Donate', 'to', 'the', 'PSF', '&#9650;', 'Back', 'to', 'Top', 'About', 'Applications', 'Quotes', 'Getting', 'Started', 'Help', 'Downloads', 'All', 'releases', 'Source', 'code', 'Windows', 'Mac', 'OS', 'X', 'Other', 'Platforms', 'License', 'Alternative', 'Implementations', 'Documentation', 'Docs', 'Audio/Visual', 'Talks', 'Beginner&#39;s', 'Guide', 'Developer&#39;s', 'Guide', 'FAQ', 'Non-English', 'Docs', 'PEP', 'Index', 'Python', 'Books', 'Community', 'Diversity', 'IRC', 'Mailing', 'Lists', 'Python', 'Conferences', 'Special', 'Interest', 'Groups', 'Python', 'Wiki', 'Python', 'Logo', 'Merchandise', 'Community', 'Awards', 'Success', 'Stories', 'Arts', 'Business', 'Education', 'Engineering', 'Government', 'Scientific', 'Software', 'Development', 'News', 'Python', 'News', 'Community', 'News', 'PSF', 'News', 'PyCon', 'News', 'Events', 'Python', 'Events', 'User', 'Group', 'Events', 'Python', 'Events', 'Archive', 'User', 'Group', 'Events', 'Archive', 'Submit', 'an', 'Event', '&#9650;', 'Back', 'to', 'Top', 'Help', '&amp;', 'General', 'Contact', 'Diversity', 'Initiatives', 'Website', 'Colophon-->', 'Copyright', '&copy;2001-2014.', '&nbsp;Python', 'Software', 'Foundation', '&nbsp;Legal', 'Statements', '&nbsp;Privacy', 'Policy', 'Notice:', 'While', 'Javascript', 'is', 'not', 'essential', 'for', 'this', 'website,', 'your', 'interaction', 'with', 'the', 'content', 'will', 'be', 'limited.', 'Please', 'turn', 'Javascript', 'on', 'for', 'the', 'full', 'experience.', 'Notice:', 'Your', 'browser', 'is', 'ancient', 'and', 'Microsoft', 'agrees.', 'Upgrade', 'to', 'a', 'different', 'browser', 'or', 'install', 'Google', 'Chrome', 'Frame', 'to', 'experience', 'a', 'better', 'web.']\n",
        "\n",
        "All words : 1039\n"
       ]
      }
     ],
     "prompt_number": 25
    },
    {
     "cell_type": "markdown",
     "metadata": {},
     "source": [
      "\uc6b0\uc120 \uc790\ubc14\uc2a4\ud06c\ub9bd\ud2b8 script\ub85c \uc2dc\uc791\ub418\uace0 </script>\ub85c \ub05d\ub098\ub294 \ubd80\ubd84\uc744 \uc5c6\uc560 \uc8fc\uc5c8\uc2b5\ub2c8\ub2e4. \n"
     ]
    },
    {
     "cell_type": "markdown",
     "metadata": {},
     "source": [
      "\uadf8\ub2e4\uc74c CSS <STYLE \ubd80\ud130 \\</STYLE> \ub85c \ub05d\ub098\ub294\uac83\uc744 \uc5c6\uc560\uace0,"
     ]
    },
    {
     "cell_type": "markdown",
     "metadata": {},
     "source": [
      "\n",
      "\ub9c8\uc9c0\ub9c9\uc73c\ub85c '<' \ub85c \uc2dc\uc791\ud558\uace0 '>'\ub85c \ub05d\ub098\ub294 \uac83\ub4e4\uc744 \uc0ad\uc81c \ud574 \uc8fc\uc5c8\uc2b5\ub2c8\ub2e4. "
     ]
    },
    {
     "cell_type": "markdown",
     "metadata": {},
     "source": []
    },
    {
     "cell_type": "markdown",
     "metadata": {},
     "source": [
      "1\ubc88 \ubd80\ud130 5\ubc88 \uae4c\uc9c0\ub294 \uc218\uc5c5\uc2dc\uac04\uc5d0 \ubc30\uc6b4 \ubd80\ubd84\uc744 \uc870\uae08 \uc751\uc6a9\ud558\ub2c8 \uc798 \ud480 \uc218 \uc788\uc5c8\uc2b5\ub2c8\ub2e4. \uadf8\ub7ec\ub098 6\ubc88\uc5d0\uc11c \uc5b4\ub5bb\ud574\uc57c \ud560 \uc9c0 \ub108\ubb34 \uc5b4\ub824\uc6e0\uc2b5\ub2c8\ub2e4. "
     ]
    },
    {
     "cell_type": "code",
     "collapsed": false,
     "input": [],
     "language": "python",
     "metadata": {},
     "outputs": []
    }
   ],
   "metadata": {}
  }
 ]
}