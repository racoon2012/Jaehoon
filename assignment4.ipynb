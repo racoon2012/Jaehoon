{
 "metadata": {
  "name": "",
  "signature": "sha256:86847d2cb54031565f6996cb64fe9e15332a6e8b959a3169a43fc31515036b06"
 },
 "nbformat": 3,
 "nbformat_minor": 0,
 "worksheets": [
  {
   "cells": [
    {
     "cell_type": "markdown",
     "metadata": {},
     "source": [
      "<h1>\ubb38\uc81c 1</h1>"
     ]
    },
    {
     "cell_type": "markdown",
     "metadata": {},
     "source": [
      "\ud30c\uc77c s.txt \ub0b4\uc758 \ub2e4\uc74c \ub0b4\uc6a9\uacfc \ud568\uaed8 \uc544\ub798 \ubb38\uc81c\uc758 \ucf54\ub4dc\ub97c \uc81c\uc2dc\ud558\uc2dc\uc624.<br>\n",
      "\n",
      "pig ham\n",
      "\n",
      "cat dog\n",
      "\n",
      "ham bird\n",
      "\n",
      "dog pig"
     ]
    },
    {
     "cell_type": "markdown",
     "metadata": {},
     "source": [
      "1) \ud30c\uc77c s.txt\uc744 \uc77d\uc5b4\uc11c \uac01 \ub77c\uc778\ub4e4\uc5d0 \uc788\ub294 \uccab \ubc88\uc9f8 \ub2e8\uc5b4(\ubb38\uc790\uc5f4)\ub4e4\uc744 \uae30\uc900\uc73c\ub85c \ub77c\uc778\ubcc4 \uc815\ub82c\ud6c4 \ud30c\uc77c s1.txt\uc5d0 \uadf8 \uacb0\uacfc\ub97c \uae30\ub85d\ud558\ub294 \ucf54\ub4dc\ub97c \uc791\uc131\ud558\uc2dc\uc624. \uc989, \ud504\ub85c\uadf8\ub7a8 \uc218\ud589 \ud6c4 s1.txt\uc5d0 \uc788\ub294 \ud30c\uc77c \ub0b4\uc6a9\uc740 \ub2e4\uc74c\uacfc \uac19\ub2e4.\n",
      "<br>\n",
      "cat dog<br>\n",
      "dog pig<br>\n",
      "ham bird<br>\n",
      "pig ham<br>"
     ]
    },
    {
     "cell_type": "markdown",
     "metadata": {},
     "source": [
      "-\uba3c\uc838 \ud30c\uc77c\uc758 \uc800\uc7a5 \uc704\uce58\ub97c \ud30c\uc545 \ud569\ub2c8\ub2e4."
     ]
    },
    {
     "cell_type": "code",
     "collapsed": false,
     "input": [
      "import os\n",
      "\n",
      "print os.getcwd()"
     ],
     "language": "python",
     "metadata": {},
     "outputs": [
      {
       "output_type": "stream",
       "stream": "stdout",
       "text": [
        "C:\\Users\\user\n"
       ]
      }
     ],
     "prompt_number": 1
    },
    {
     "cell_type": "markdown",
     "metadata": {},
     "source": [
      "C\ub4dc\ub77c\uc774\ubc84\uc758 user\uc5d0 \ud30c\uc77c\uc774 \uc800\uc7a5 \ub418\ubbc0\ub85c \uadf8\uacf3\uc5d0 s.txt \ud30c\uc77c\uc744 \ub9cc\ub4ed\ub2c8\ub2e4."
     ]
    },
    {
     "cell_type": "code",
     "collapsed": false,
     "input": [
      "s = \"\"\"\n",
      "pig ham\n",
      "cat dog\n",
      "ham bird\n",
      "dog pig\n",
      "\"\"\"\n",
      "f = open('s.txt', 'w')\n",
      "f.write(s) #\ubb38\uc790\uc5f4\uc744 \ud30c\uc77c\uc5d0 \uae30\ub85d\n",
      "f.close()"
     ],
     "language": "python",
     "metadata": {},
     "outputs": [],
     "prompt_number": 2
    },
    {
     "cell_type": "code",
     "collapsed": false,
     "input": [
      "f = file('s.txt') # f = open('t.txt', 'r')\uacfc \ub3d9\uc77c\n",
      "s = f.read()\n",
      "print s"
     ],
     "language": "python",
     "metadata": {},
     "outputs": [
      {
       "output_type": "stream",
       "stream": "stdout",
       "text": [
        "\n",
        "pig ham\n",
        "cat dog\n",
        "ham bird\n",
        "dog pig\n",
        "\n"
       ]
      }
     ],
     "prompt_number": 4
    },
    {
     "cell_type": "markdown",
     "metadata": {},
     "source": [
      "s1.txt \uc800\uc7a5\ub41c \ub0b4\uc6a9 load"
     ]
    },
    {
     "cell_type": "code",
     "collapsed": false,
     "input": [
      "\n",
      "f = open('s.txt')\n",
      "\n",
      "lines = []\n",
      "\n",
      "for tmpLine in f.readlines():\n",
      "    lines.append(tmpLine)\n",
      "    lines = sorted(lines)\n",
      "\n",
      "f.close()\n",
      "#print lines\n",
      "\n",
      "# s2.txt\uc5d0 \ub0b4\uc6a9 \uc800\uc7a5\n",
      "f = open('s1.txt', 'w+')\n",
      "f.write(''.join(lines))\n",
      "\n",
      "f.seek(0)\n",
      "print f.read()\n",
      "\n",
      "f.close()"
     ],
     "language": "python",
     "metadata": {},
     "outputs": [
      {
       "output_type": "stream",
       "stream": "stdout",
       "text": [
        "\n",
        "cat dog\n",
        "dog pig\n",
        "ham bird\n",
        "pig ham\n",
        "\n"
       ]
      }
     ],
     "prompt_number": 5
    },
    {
     "cell_type": "markdown",
     "metadata": {},
     "source": [
      "sorted()\ub97c \uc774\uc6a9\ud558\uc5ec \uc815\ub82c \ud6c4 f.write()\ud568\uc218\ub97c \uc774\uc6a9\ud574\uc11c \ud30c\uc77c\uc744 \uc77d\uc5b4 \uc654\uc2b5\ub2c8\ub2e4."
     ]
    },
    {
     "cell_type": "code",
     "collapsed": false,
     "input": [],
     "language": "python",
     "metadata": {},
     "outputs": []
    },
    {
     "cell_type": "markdown",
     "metadata": {},
     "source": [
      "2) \ud30c\uc77c s.txt\uc744 \uc77d\uc5b4\uc11c \uac01 \ub77c\uc778\ub4e4\uc5d0 \uc788\ub294 \ub450 \ubc88\uc9f8 \ub2e8\uc5b4(\ubb38\uc790\uc5f4)\ub4e4\uc744 \uae30\uc900\uc73c\ub85c \ub77c\uc778\ubcc4 \uc815\ub82c\ud6c4 \ud30c\uc77c s2.txt\uc5d0 \uadf8 \uacb0\uacfc\ub97c \uae30\ub85d\ud558\ub294 \ucf54\ub4dc\ub97c \uc791\uc131\ud558\uc2dc\uc624. \uc989, \ud504\ub85c\uadf8\ub7a8 \uc218\ud589 \ud6c4 s2.txt\uc5d0 \uc788\ub294 \ud30c\uc77c \ub0b4\uc6a9\uc740 \ub2e4\uc74c\uacfc \uac19\ub2e4.<br>\n",
      "\n",
      "ham bird<br>\n",
      "\n",
      "cat dog<br>\n",
      "\n",
      "pig ham<br>\n",
      "\n",
      "dog pig<br>"
     ]
    },
    {
     "cell_type": "code",
     "collapsed": false,
     "input": [
      "# \uc778\ub371\uc2a4\ub97c \ube44\uad50\ud560 \ud568\uc218 mycmp\ub97c \ub9cc\ub4e4\uace0\n",
      "\n",
      "def mycmp(a1, a2) :\n",
      "    a1 = a1[1]\n",
      "    a2 = a2[1]\n",
      "    return cmp(a1, a2)\n",
      "f = open('s.txt')\n",
      "\n",
      "lines = []\n",
      "\n",
      "for tmpLine in f.readlines():\n",
      "    lines.append(tmpLine)\n",
      "\n",
      "\n",
      "lines2 = []\n",
      "for tmpLine2 in lines :\n",
      "    lines2.append(tmpLine2.split())   \n",
      "\n",
      "del lines2[0]\n",
      "\n",
      "\n",
      "# mycmp \ub9ac\uc2a4\ud2b8 \uc815\ub82c \ud569\ub2c8\ub2e4.\n",
      "\n",
      "for tmp in lines2 :\n",
      "    lines2 = sorted(lines2, mycmp)\n",
      "\n",
      "\n",
      "    \n",
      "tmpList = []\n",
      "for tmp in lines2 :\n",
      "    tmpList.append(' '.join(tmp))\n",
      "\n",
      "\n",
      "f.close()\n",
      "\n",
      "\n",
      "#s2. \ub0b4\uc6a9\uc5d0 \uc800\uc7a5 \ud569\ub2c8\ub2e4.\n",
      "f = open('s2.txt', 'w+')\n",
      "f.write('\\n'.join(tmpList))\n",
      "\n",
      "f.seek(0)\n",
      "print f.read()\n",
      "\n",
      "f.close()\n"
     ],
     "language": "python",
     "metadata": {},
     "outputs": [
      {
       "output_type": "stream",
       "stream": "stdout",
       "text": [
        "ham bird\n",
        "cat dog\n",
        "pig ham\n",
        "dog pig\n"
       ]
      }
     ],
     "prompt_number": 7
    },
    {
     "cell_type": "markdown",
     "metadata": {},
     "source": [
      "mycmp\uc815\uc758\ub97c \ud1b5\ud574 \uc778\ub371\uc2a4\ub97c \ube44\uad50\ud558\uace0 \ub9ac\uc2a4\ud2b8\ub97c \ub9cc\ub4e4\uc5b4 \uc815\ub82c \ud558\uace0<br>\n",
      "[['ham', 'bird'], ['cat', 'dog'], ['pig', 'ham'], ['dog', 'pig']] \ud615\ud0dc\ub85c \ub9cc\ub4e4\uc5b4\uc11c\n",
      "f.write() \ud558\uc5ec \ud569\ucce4\uc2b5\ub2c8\ub2e4."
     ]
    },
    {
     "cell_type": "markdown",
     "metadata": {},
     "source": []
    },
    {
     "cell_type": "markdown",
     "metadata": {},
     "source": [
      "3) \ud30c\uc77c s.txt\uc744 \uc77d\uc5b4\uc11c \uac01 \ub77c\uc778\ub4e4\uc5d0 \uc788\ub294 \ubaa8\ub4e0 \ub2e8\uc5b4\ub4e4\uc744 \uc21c\ucc28\uc801\uc73c\ub85c \ub2e4\uc2dc \ub098\uc5f4\ud558\ub418 \uac01 \ub77c\uc778\uc5d0 \uc138 \uac1c\uc758 \ub2e8\uc5b4\ub4e4\uc774 \uc624\ub3c4\ub85d \ud558\uc5ec s3.txt\uc5d0 \uae30\ub85d\ud558\ub294 \ucf54\ub4dc\ub97c \uc791\uc131\ud558\uc2dc\uc624. \uc989, \ud504\ub85c\uadf8\ub7a8 \uc218\ud589 \ud6c4 s3.txt\uc5d0 \uc788\ub294 \ud30c\uc77c \ub0b4\uc6a9\uc740 \ub2e4\uc74c\uacfc \uac19\ub2e4.<br>\n",
      "\n",
      "pig ham cat<br>\n",
      "\n",
      "dog ham bird<br>\n",
      "\n",
      "dog pig<br>"
     ]
    },
    {
     "cell_type": "code",
     "collapsed": false,
     "input": [],
     "language": "python",
     "metadata": {},
     "outputs": []
    },
    {
     "cell_type": "code",
     "collapsed": false,
     "input": [
      "#s.txt \uc5f4\uc5b4 \ub9ac\uc2a4\ud2b8\ud654\n",
      "f = open('s.txt')\n",
      "\n",
      "lines = []\n",
      "for tmpLine in f.readlines():\n",
      "    lines.append(tmpLine)\n",
      "\n",
      "lines2 = []\n",
      "for tmpLine2 in lines :\n",
      "    lines2.append(tmpLine2.split())\n",
      "del lines2[0]   \n",
      "\n",
      "tmpList = []\n",
      "for tmp in lines2 :\n",
      "    tmpList.append(' '.join(tmp))\n",
      "\n",
      "#\ubb38\uc790\uc5f4 \ud558\ub098\uc758 \ubb38\uc790\uc5f4\ub85c \uc800\uc7a5\n",
      "tmpStr = ' '.join(tmpList)\n",
      "\n",
      "tmpList3 = tmpStr.split(' ')\n",
      "\n",
      "# 3\uac1c\uc529 \ub098\ub204\uc6cc\uc11c \ucd9c\ub825 \ud558\uc600\uc2b5\ub2c8\ub2e4.\n",
      "tmpList4 = []\n",
      "tmpList5 = []\n",
      "for x in range(len(tmpList3)) :\n",
      "    tmpList4.append(tmpList3[x])\n",
      "    if len(tmpList4) % 3 == 0 :\n",
      "        tmpList5.append(' '.join(tmpList4))\n",
      "        del tmpList4[0:3]\n",
      "tmpList5.append(' '.join(tmpList4))\n",
      "\n",
      "f.close()\n",
      "\n",
      "f = open('s3.txt', 'w+')\n",
      "f.write('\\n'.join(tmpList5))\n",
      "\n",
      "f.seek(0)\n",
      "print f.read()\n",
      "\n",
      "f.close()\n"
     ],
     "language": "python",
     "metadata": {},
     "outputs": [
      {
       "output_type": "stream",
       "stream": "stdout",
       "text": [
        "pig ham cat\n",
        "dog ham bird\n",
        "dog pig\n"
       ]
      }
     ],
     "prompt_number": 9
    },
    {
     "cell_type": "markdown",
     "metadata": {},
     "source": [
      "3\uac1c\uc529 \ub098\ub204\uc5b4 \ucd9c\ub825\ud558\ub3c4\ub85d \ub9cc\ub4e4\uc5c8\uc2b5\ub2c8\ub2e4.\n",
      "tmpList\uc758 \uae38\uc774 \ub9cc\ud074 for\ubb38\uc744 \ub3cc\ub824 tmpList4[x] \uc640 tmpList3[x]\uc744 \uc800\uc7a5\ud569\ub2c8\ub2e4.\n",
      "tmpList4\uae38\uc774\uac00 3\uc774 \ub418\uba74 join\uc744 \uc774\uc6a9\ud574 \ubb38\uc790\uc5f4\ub85c \ub9cc\ub4e0 \ud6c4 tmpList5\uc5d0 append \ud569\ub2c8\ub2e4.\n",
      "tmpList4\uc758 \uc778\ud14d\uc2a4 0~ 3 \uae4c\uc9c0 \uc800\uc7a5\ub41c \ub370\uc774\ud130\ub97c \uc9c0\uc6b0\uace0 3\uc73c\ub85c \ub098\ub204\uc5b4 \ub5a8\uc5b4\uc9c0\uc9c0 \uc54a\uace0 \ub05d\ub098\ub294 \uacbd\uc6b0 f\n",
      "for\ubb38 \ubc16\uc5d0 tmpList4\uc5d0 \ub0a8\uc544\uc788\ub294 \ub370\uc774\ud130 tmpLIst5\uc5d0 append \ud569\ub2c8\ub2e4."
     ]
    },
    {
     "cell_type": "code",
     "collapsed": false,
     "input": [],
     "language": "python",
     "metadata": {},
     "outputs": []
    },
    {
     "cell_type": "markdown",
     "metadata": {},
     "source": [
      "<h1>\ubb38\uc81c 2</h1>"
     ]
    },
    {
     "cell_type": "markdown",
     "metadata": {},
     "source": [
      "[2\ubc88 \ubb38\uc81c] \ub2e4\uc74c\uacfc \uac19\uc740 \uc870\uac74\ub4e4\uc744 \ucc38\uace0\ud558\uc5ec \ud68c\uc6d0 \uac00\uc785 \ubc0f \ub85c\uadf8\uc778 \ud504\ub85c\uadf8\ub7a8\uc744 \uc791\uc131\ud558\uc2dc\uc624.\n",
      "1) \ud504\ub85c\uadf8\ub7a8 \uc2dc\uc791 \ud6c4 \ub2e4\uc74c\uacfc \uac19\uc740 \uba54\uc2dc\uc9c0\uac00 \ucd9c\ub825\ub418\uc5b4 1, 2, 3 \uc911 \ud558\ub098\uc758 \uac12\uc744 \uc785\ub825 \ubc1b\ub3c4\ub85d \ud55c\ub2e4.\n",
      "Welcome to Our Service<br>\n",
      "Sign Up<br>\n",
      "Sign In<br>\n",
      "Quit<br><br>\n",
      "2) 1\uc744 \uc120\ud0dd\ud558\uba74 ID, Password, Name, School\uc758 4\uac00\uc9c0 \uc815\ubcf4\ub97c \uc785\ub825\ubc1b\uc544 \ud30c\uc77c\uc5d0 \uc800\uc7a5\ud558\ub294 \ud504\ub85c\uadf8\ub7a8\uc744 \uc791\uc131\ud55c\ub2e4.<br>\n",
      "2-1) \uc785\ub825\ub41c \ub0b4\uc6a9\uc740 access \ub77c\ub294 \uc774\ub984\uc758 \ud30c\uc77c \ub0b4\uc5d0 \uc800\uc7a5\ub41c\ub2e4.<br>\n",
      "2-2) access \ud30c\uc77c\uc758 \uac01 \ub77c\uc778\uc5d0\ub294 \uac00\uc785\ub41c \ud68c\uc6d0 \uac01\uac01\uc758 \uc815\ubcf4\uac00 \"id: password, name, school\" \ud615\ud0dc\ub85c \uc800\uc7a5\ub41c\ub2e4.<br>\n",
      "2-3) \uc989, \uac00\uc785 \ud68c\uc6d0\uc774 10\uba85\uc774\uba74 access \ud30c\uc77c \ub0b4\uc5d0 \ub77c\uc778 \uc218\ub3c4 \uc815\ud655\ud788 10\uc774\ub2e4.<br>\n",
      "2-4) \uc554\ud638\ud654 \ubc29\uc2dd\uc740 sha \ubaa8\ub4c8\uc744 \ud65c\uc6a9\ud55c\ub2e4. sha \ubaa8\ub4c8 \ud65c\uc6a9 \ubc29\ubc95\uc740 \ubcf8 \ubb38\uc81c\uc758 \ub9c8\uc9c0\ub9c9\uc5d0 \uc81c\uc2dc\ub41c sha \ud65c\uc6a9 \uc608\ub97c \ucc38\uace0\ud55c\ub2e4.<br>\n",
      "\uc989, access \ud30c\uc77c \ub0b4\uc5d0 password \uc815\ubcf4\ub294 \uc554\ud638\ud654 \ub418\uc5b4 \uc800\uc7a5\ub418\uc5b4\uc57c \ud55c\ub2e4.<br>\n",
      "2-5) \ud68c\uc6d0 \uc815\ubcf4\ub97c \uc785\ub825 \ubc1b\uc744 \ub54c id\ub97c \uc785\ub825 \ubc1b\uc740 \uc9c1\ud6c4 access\ub97c \ud655\uc778\ud558\uc5ec \uc774\ubbf8 \uc874\uc7ac\ud558\ub294 id\uac00 \uc785\ub825\ub418\uc5c8\ub2e4\uba74 \ub2e4\uc74c \uba54\uc2dc\uc9c0\ub97c \ucd9c\ub825\ud558\uace0 id \uc815\ubcf4\ub97c \ub2e4\uc2dc \uc785\ub825\ubc1b\ub294\ub2e4.<br>\n",
      "Sorry, the entered ID is already used.<br><br>\n",
      "3) 2\ub97c \uc120\ud0dd\ud558\uba74 ID, Password\uc758 2\uac00\uc9c0 \uc815\ubcf4\ub97c \uc785\ub825\ubc1b\ub294 \ud504\ub85c\uadf8\ub7a8\uc744 \uc791\uc131\ud55c\ub2e4.<br>\n",
      "3-1) \uc785\ub825\ub41c ID \uc815\ubcf4\uac00 access\uc5d0 \uc874\uc7ac\ud558\uc9c0 \uc54a\uc73c\uba74 \ub2e4\uc74c\uacfc \uac19\uc740 \uba54\uc2dc\uc9c0\ub97c \ucd9c\ub825\ud558\uace0 \ub2e4\uc2dc \uc785\ub825\ubc1b\ub294\ub2e4.<br>\n",
      "Sorry, you are not a registered member.<br>\n",
      "3-2) \uc785\ub825\ub41c ID\uac00 \uc62c\ubc14\ub974\uac8c \uc874\uc7ac\ud558\uc9c0\ub9cc Password \uc815\ubcf4\uac00 access \ud30c\uc77c\uc5d0 \uc788\ub294 \uc815\ubcf4\uc640 \ubd88\uc77c\uce58 \ud558\uba74 \ub2e4\uc74c\uacfc \uac19\uc740 \uba54\uc2dc\uc9c0\ub97c \ucd9c\ub825\ud558\uace0 \ub2e4\uc2dc \uc785\ub825\ubc1b\ub294\ub2e4.<br>\n",
      "Sorry, the entered password is not correct.<br>\n",
      "\uc774 \ub54c\uc5d0\ub3c4 \uc0ac\uc6a9\uc790\uac00 \uc785\ub825\ud55c \ud328\uc2a4\uc6cc\ub4dc \uc815\ubcf4\uc640 \ud568\uaed8 sha \ubaa8\ub4c8\uc774 \ud65c\uc6a9\ub418\uc5b4\uc57c \ud55c\ub2e4.<br>\n",
      "3-3) \uc785\ub825\ub41c ID\uc640 Password\uac00 \ubaa8\ub450 \uc62c\ubc14\ub974\uba74 \ub2e4\uc74c\uacfc \uac19\uc740 \uba54\uc2dc\uc9c0\ub97c \ucd9c\ub825\ud55c\ub2e4.<br>\n",
      "Hello [name]!\n",
      "\uc704 [name]\uc5d0\ub294 access\uc5d0 \uae30\ub85d\ub418\uc5b4 \uc788\ub294 name \uc815\ubcf4\ub97c \ucd9c\ub825\ud55c\ub2e4.<br>\n",
      "4) 3\uc744 \uc120\ud0dd\ud558\uba74 \ud504\ub85c\uadf8\ub7a8\uc774 \ub05d\ub09c\ub2e4.<br>\n",
      "[\ucc38\uace0] sha \ubaa8\ub4c8 \ud65c\uc6a9 \uc608<br>"
     ]
    },
    {
     "cell_type": "code",
     "collapsed": false,
     "input": [
      "import sha\n",
      "\n",
      "# \uba54\ub274\ub97c \uad6c\uc131\ud569\ub2c8\ub2e4.\n",
      "def menu():\n",
      "    print \"Welcome To Our Service\"\n",
      "    print \"[ \ud68c\uc6d0\uac00\uc785 : 1     \ub85c\uadf8\uc778 : 2     \uc885\ub8cc : 3 ]\"\n",
      "\n",
      "# 1\ubc88 \ud68c\uc6d0\uac00\uc785 \ub9cc\ub4e4\uae30\n",
      "def sign_Up() :\n",
      "    f = open('access.txt', 'a+')\n",
      "    s = f.read()\n",
      "    s.split(':')             #  ':'\ub97c \uae30\uc900\uc73c\ub85c \ucabc\uac2c\n",
      "    lines = s.splitlines()   #  \ub77c\uc778\ubcc4\ub85c \ub9ac\uc2a4\ud2b8\ub85c \ub9cc\ub4e4\uc5b4 \uc800\uc7a5\n",
      "    \n",
      "    idLine = []\n",
      "    for line in lines :\n",
      "        idLine.append(line.split(':'))\n",
      "    \n",
      "    Id = raw_input('ID : ')\n",
      "\n",
      "    for x in range(len(idLine)) :\n",
      "        if Id in idLine[x][0] :\n",
      "            print \"Sorry, the entered ID is already used.\"\n",
      "            Id = raw_input('ID : ')\n",
      "    pw = raw_input('Password : ')\n",
      "    name = raw_input('Name : ')\n",
      "    school = raw_input('School : ')\n",
      "    \n",
      "    # \ud328\uc2a4\uc6cc\ub4dc \n",
      "    pw_encrypted = sha.new(pw).hexdigest()\n",
      "\n",
      "    stuInfo = []\n",
      "    \n",
      "    # stuInfo\uc5d0 \uc815\ubcf4\n",
      "    stuInfo.append(Id)\n",
      "    stuInfo.append(pw_encrypted)\n",
      "    stuInfo.append(name)\n",
      "    stuInfo.append(school)\n",
      "    \n",
      "    stuInfo[0] = Id + ':'          \n",
      "    stuInfo[1] = pw_encrypted + ','\n",
      "    stuInfo[2] = name + ','\n",
      "    \n",
      "    f.close()\n",
      "    \n",
      "    f = open('access.txt', 'a+')\n",
      "    f.write(''.join(stuInfo))  \n",
      "    f.write('\\n')             \n",
      "\n",
      "    f.seek(0)\n",
      "    print f.read()\n",
      "\n",
      "    f.close()\n",
      "\n",
      "# \ub85c\uadf8\uc778 \ubd80\ubd84\n",
      "def sign_In() :\n",
      "    f = open('access.txt', 'a+')\n",
      "    \n",
      "    s = f.read()\n",
      "    s.split(':')             #  ':'\ub97c \uae30\uc900\uc73c\ub85c \ucabc\uac2c\n",
      "    lines = s.splitlines()   #  \ub77c\uc778\ubcc4\ub85c \ub9ac\uc2a4\ud2b8\ub85c \ub9cc\ub4e4\uc5b4 \uc800\uc7a5\n",
      "    \n",
      "    # id \ubd80\ubd84\uc744 ':'\uc744 \uae30\uc900\uc73c\ub85c \ub098\ub204\uc5b4 \uc800\uc7a5\n",
      "    idLine = []\n",
      "    for line in lines :\n",
      "        idLine.append(line.split(':'))\n",
      "        \n",
      "    # id\ub97c \uc81c\uc678\ud55c \ub098\uba38\uc9c0\ubd80\ubd84\uc744 ','\ub97c \uae30\uc900\uc73c\ub85c \ub098\ub204\uc5b4 \uc800\uc7a5\n",
      "    passwordLine = []\n",
      "    for x in range(len(idLine)) :\n",
      "        passwordLine.append(idLine[x][1].split(','))\n",
      "        \n",
      "    # id\uc758 \uc874\uc7ac \uc5ec\ubd80\ub97c \ud655\uc778\ud558\ub294 \ubc18\ubcf5\ubb38\n",
      "    x = 0\n",
      "    while x == 0 : \n",
      "        x = 1\n",
      "        Id = raw_input('ID : ') \n",
      "        for x in range(len(idLine)):\n",
      "            if idLine[x][0] == Id:\n",
      "                x = 1\n",
      "                break\n",
      "            else:\n",
      "                x = 0\n",
      "        if x == 0 :\n",
      "            print \"Sorry, you are not a registered member.\"\n",
      "     \n",
      "    # password\uc758 \uc77c\uce58 \uc5ec\ubd80\ub97c \ud655\uc778\ud558\ub294 \ubc18\ubcf5\ubb38\n",
      "    y = 0      \n",
      "    while y == 0: \n",
      "        y = 1                \n",
      "        pw = raw_input(\"Password : \")\n",
      "        pw_encrypted = sha.new(pw).hexdigest()\n",
      "        if passwordLine[x][0] == pw_encrypted :\n",
      "            y = 1\n",
      "            break\n",
      "        else:\n",
      "            y = 0\n",
      "        if y == 0 :\n",
      "            print \"Sorry, the entered password is not correct.\"\n",
      "    print \n",
      "    print \"Hello %s!\" % (passwordLine[x][1])\n",
      "                \n",
      "    f.close()\n",
      "    \n",
      "def quit() :\n",
      "    print \"Bye for now~ bro~!\"\n",
      "\n",
      "# \uba54\ub274\ud654\uba74 \ucd9c\ub825\n",
      "menu()\n",
      "\n",
      "sel = input('select : ')\n",
      "\n",
      "if sel == 1 :\n",
      "    sign_Up()\n",
      "elif sel == 2 :\n",
      "    sign_In()\n",
      "elif sel == 3 :\n",
      "    quit()\n",
      "else :\n",
      "    print \"Invalid Input!\""
     ],
     "language": "python",
     "metadata": {},
     "outputs": []
    },
    {
     "cell_type": "code",
     "collapsed": false,
     "input": [],
     "language": "python",
     "metadata": {},
     "outputs": []
    },
    {
     "cell_type": "markdown",
     "metadata": {},
     "source": [
      "\n",
      "< \uac04\ub2e8\ud55c \uc124\uba85\ub4e4\uc740 \ucf54\ub4dc\uc5d0 \uc8fc\uc11d\uc73c\ub85c \ucc98\ub9ac >\n",
      "\n",
      "sign_Up \ubd80\ubd84 (\uac19\uc740 \uc544\uc774\ub514 \uac00\uc785 \uc548\ub418\ub294 \ubd80\ubd84)\n",
      "-> ':'\ub97c \uae30\uc900\uc73c\ub85c id\uc640 \ub098\uba38\uc9c0 \ubd80\ubd84\uc73c\ub85c \ub098\ub204\uc5b4 \ub9ac\uc2a4\ud2b8\ub85c \uc800\uc7a5(idLine) -> idLine[x][0] \ubd80\ubd84\uc5d0 ID\uac00 \uc800\uc7a5\ub428\n",
      "\n",
      "-> idLine[x][0]\uc744 \ud655\uc778\ud558\uba74\uc11c \ub3d9\uc77cID \uc874\uc7ac\uc5ec\ubd80 \ud655\uc778\n",
      "\n",
      "sign_In \ubd80\ubd84\n",
      "-> ':'\ub97c \uae30\uc900\uc73c\ub85c id\uc640 \ub098\uba38\uc9c0 \ubd80\ubd84\uc73c\ub85c \ub098\ub204\uc5b4 \ub9ac\uc2a4\ud2b8\ub85c \uc800\uc7a5(idLine) -> \ub098\uba38\uc9c0 \ubd80\ubd84\uc744 ','\ub97c \uae30\uc900\uc73c\ub85c \ub098\ub204\uc5b4 \ub9ac\uc2a4\ud2b8\ub85c \uc800\uc7a5(passwordLine)\n",
      "\n",
      "-> idLine \ub9ac\uc2a4\ud2b8\ub97c \ub3cc\uba74\uc11c id\uc758 \uc874\uc7ac\uc5ec\ubd80\ub97c \ud655\uc778\ud558\uc5ec \uacb0\uacfc\ub97c \ubc18\ud658\ud55c\ub2e4. \uc874\uc7ac\ud558\uba74 \ubc18\ubcf5\ubb38\uc744 \ube60\uc838\ub098\uc628\ub2e4.\n",
      "\n",
      "-> passwordLine \ub9ac\uc2a4\ud2b8\ub97c \ub3cc\uba74\uc11c pw\uc758 \uc77c\uce58\uc5ec\ubd80\ub97c \ud655\uc778\ud558\uc5ec \uacb0\uacfc\ub97c \ubc18\ud658\ud55c\ub2e4. \uc874\uc7ac\ud558\uba74 \uc815\uc0c1\uc801\uc73c\ub85c \uacb0\uacfc\ub97c \ucd9c\ub825\ud558\uace0 \ud2c0\ub9ac\uba74 password\ub97c \uc7ac\uc785\ub825\ud55c\ub2e4."
     ]
    },
    {
     "cell_type": "code",
     "collapsed": false,
     "input": [],
     "language": "python",
     "metadata": {},
     "outputs": []
    },
    {
     "cell_type": "markdown",
     "metadata": {},
     "source": [
      "<h1>\ubb38\uc81c 3</h1>"
     ]
    },
    {
     "cell_type": "markdown",
     "metadata": {},
     "source": [
      "range() \ud568\uc218\uc640 \uc720\uc0ac\ud55c frange() \ud568\uc218\ub97c \ub2e4\uc74c \uc870\uac74\uc744 \ucc38\uace0\ud558\uc5ec \ub9cc\ub4dc\uc2dc\uc624.<br>\n",
      "\n",
      "1) frange()\uc758 \uc778\uc790 \uad6c\uc131\uc740 \ub2e4\uc74c\uacfc \uac19\uc774 range\uc640 \ub3d9\uc77c\ud558\uc9c0\ub9cc \uac01 \uc778\uc218\ub4e4\uc740 \uc74c\uc218\ub97c \ubc1b\uc9c0 \uc54a\ub294\ub2e4\uace0 \uac00\uc815\ud55c\ub2e4.\n",
      "\n",
      "range(stop)<br>\n",
      "\n",
      "range(start, stop[, step])<br>\n",
      "2) frange() \ud568\uc218\uc758 \uc778\uc790\uc5d0 \ub300\ud55c \uae30\ubcf8 \uc2dc\uc791(start) \uac12\uc740 0.0\uc774\uace0, \uae30\ubcf8 \ub2e8\uacc4(step) \uac12\uc740 0.1\uc774\ub2e4.\n",
      "<br>\n",
      "3) frange \uc0ac\uc6a9 \uc608<br>\n",
      "<br>\n",
      "3-1) frange(0.5)<br>\n",
      "\n",
      "    [0.0, 0.1, 0.2, 0.3, 0.4] <br>\n",
      "<br>\n",
      "3-2) frange(1.0, 2.0)<br>\n",
      "<br>\n",
      "    [1.0, 1.1, 1.2, 1.3, 1.4, 1.5, 1.6, 1.7, 1.8, 1.9] <br>\n",
      "<br>\n",
      "3-3) frange(2.2, 4.0, 0.5)<br>\n",
      "<br>\n",
      "    [2.2, 2.7, 3.2, 3.7] <br>\n",
      "decimal\uc744 \uc0ac\uc6a9\ud558\uc9c0 \uc54a\uace0 \ucf54\ub529<br>"
     ]
    },
    {
     "cell_type": "code",
     "collapsed": false,
     "input": [
      "def frange(start, stop = None, step = None) :\n",
      "    if stop == None:\n",
      "        stop = start + 0.0\n",
      "        start = 0.0\n",
      "\n",
      "    if step == None:\n",
      "        step = 0.1\n",
      "    \n",
      "    # \ubc18\ubcf5\ubb38\uc744 \uc704\ud55c \ubcc0\uc218\ub97c \uad6c\ud558\ub294 \uacfc\uc815\n",
      "    cnt = 0\n",
      "    result = start\n",
      "    while 1 :\n",
      "        if result < stop :\n",
      "            result += step\n",
      "            cnt += 1\n",
      "        else :\n",
      "            break;\n",
      "    \n",
      "    # \uacb0\uacfc\ub97c \ub9ac\uc2a4\ud2b8\ub85c \uc800\uc7a5\ud558\uc5ec \ucd9c\ub825\ud558\ub294 \ubc18\ubcf5\ubb38\n",
      "    x = 0\n",
      "    resultList = []\n",
      "    while 1 :\n",
      "        resultList.append(start)\n",
      "        start += step     \n",
      "        if x == cnt-1 :\n",
      "            break\n",
      "        else :\n",
      "            x += 1\n",
      "    print resultList\n",
      "    print\n",
      "    \n",
      "frange(0.5)\n",
      "frange(1.0, 2.0)\n",
      "frange(2.2, 4.0, 0.5)"
     ],
     "language": "python",
     "metadata": {},
     "outputs": []
    },
    {
     "cell_type": "code",
     "collapsed": false,
     "input": [],
     "language": "python",
     "metadata": {},
     "outputs": []
    },
    {
     "cell_type": "markdown",
     "metadata": {},
     "source": [
      "<h1>\n",
      "\ubb38\uc81c 4"
     ]
    },
    {
     "cell_type": "markdown",
     "metadata": {},
     "source": [
      "\uac00\ubcc0\uc778\uc218\ub97c \ubc1b\ub294 \ud568\uc218 sum()\uc744 \ub2e4\uc74c\uacfc \uac19\uc740 \uc870\uac74\uc744 \ucc38\uace0\ud558\uc5ec \uad6c\ud604\ud558\uc2dc\uc624\n",
      "\n",
      "1) sum() \uc0ac\uc6a9 \uc608\n",
      "\n",
      "sum()\n",
      "    0 \n",
      "sum(1, 2)\n",
      "    3 \n",
      "sum(1, 2, 3, 4, 5)\n",
      "    15 \n",
      "sum(1, 5, 7, 2, -10)\n",
      "    5 "
     ]
    },
    {
     "cell_type": "code",
     "collapsed": false,
     "input": [
      "def sum(a, *arg):\n",
      "    result = a\n",
      "    \n",
      "    for x in arg :\n",
      "        result += x\n",
      "    \n",
      "    print result\n",
      "\n",
      "sum(1)\n",
      "sum(1, 2)\n",
      "sum(1, 2, 3, 4, 5)\n",
      "sum(1, 5, 7, 2, -10)"
     ],
     "language": "python",
     "metadata": {},
     "outputs": []
    },
    {
     "cell_type": "code",
     "collapsed": false,
     "input": [],
     "language": "python",
     "metadata": {},
     "outputs": []
    },
    {
     "cell_type": "markdown",
     "metadata": {},
     "source": [
      "\n",
      "<h1>\ubb38\uc81c 5"
     ]
    },
    {
     "cell_type": "markdown",
     "metadata": {},
     "source": [
      "\uc5ec\ub7ec \ub2e8\uc5b4\ub85c \uc774\ub8e8\uc5b4\uc9c4 \ubb38\uc790\uc5f4\uc744 \uc785\ub825\ubc1b\uc544 \uac01 \ub2e8\uc5b4\uc758 \uccab\uae00\uc790\ub85c \uc774\ub8e8\uc5b4\uc9c4 \ub2e8\uc5b4\ub97c \ub300\ubb38\uc790\ub85c \ucd9c\ub825\ud558\ub294 myinitial() \ud568\uc218\ub97c \ub2e4\uc74c \uc870\uac74\uc744 \ucc38\uace0\ud558\uc5ec \uc791\uc131\ud558\uc2dc\uc624.\n",
      "\n",
      "1) split, map, join \ud568\uc218\ub97c \ubaa8\ub450 \uc774\uc6a9\ud574\uc57c \ud55c\ub2e4.\n",
      "\n",
      "2) myinitial() \ud568\uc218 \uc0ac\uc6a9 \uc608\n",
      "\n",
      "myinitial(\"as soon as possible\")\n",
      "\n",
      "ASAP"
     ]
    },
    {
     "cell_type": "code",
     "collapsed": false,
     "input": [
      "def change(word) :\n",
      "    lowerToUpper = word.upper()\n",
      "    return lowerToUpper\n",
      "\n",
      "def myinitial(string) :\n",
      "    tmpList = string.split(' ')\n",
      "    \n",
      "    wordList = []\n",
      "    for x in range(len(tmpList)) :\n",
      "        wordList.append(tmpList[x][0])\n",
      "     \n",
      "    tmpWord = map(change, wordList) \n",
      "    word = ''.join(tmpWord)\n",
      "    \n",
      "    print word\n",
      "\n",
      "myinitial('as soon as possible')\n",
      "myinitial('my name is limjoosung')"
     ],
     "language": "python",
     "metadata": {},
     "outputs": []
    },
    {
     "cell_type": "code",
     "collapsed": false,
     "input": [],
     "language": "python",
     "metadata": {},
     "outputs": []
    },
    {
     "cell_type": "markdown",
     "metadata": {},
     "source": [
      "<h1>\ubb38\uc81c 6\n"
     ]
    },
    {
     "cell_type": "code",
     "collapsed": false,
     "input": [
      "def factorial(num) :\n",
      "    if num == 1 :\n",
      "        return 1\n",
      "    return num * factorial(num - 1)\n",
      "\n",
      "i = input('int :')\n",
      "\n",
      "print factorial(i)"
     ],
     "language": "python",
     "metadata": {},
     "outputs": []
    },
    {
     "cell_type": "code",
     "collapsed": false,
     "input": [],
     "language": "python",
     "metadata": {},
     "outputs": []
    },
    {
     "cell_type": "markdown",
     "metadata": {},
     "source": [
      "<h1>\ubb38\uc81c 7"
     ]
    },
    {
     "cell_type": "markdown",
     "metadata": {},
     "source": [
      "(\uc11c\uc220\ud615) import string \uacfc from string import * \uc758 \ucc28\uc774\uc810\uc744 \uc124\uba85\ud558\uc2dc\uc624."
     ]
    },
    {
     "cell_type": "markdown",
     "metadata": {},
     "source": [
      "import string \uacfc from string import* \ubaa8\ub450 string \ubaa8\ub4c8\uc744 \ubd88\ub7ec\uc624\ub294 \uac83\uc785\ub2c8\ub2e4.\n",
      "import string\uc758 \uacbd\uc6b0 \ud574\ub2f9 \ubaa8\ub4c8\uc5d0 \uc874\uc7ac\ud558\ub294 '_'\ub85c \uc2dc\uc791\ub418\ub294 \uc774\ub984\ub4e4\uc744 \ud3ec\ud568\ud55c \ubaa8\ub4e0 \uc774\ub984\ub4e4\uc744 \ud604\uc7ac \uc774\ub984 \uacf5\uac04\uc73c\ub85c \ubd88\ub7ec\uc624\uace0 <br>\n",
      "from string import* \uc758 \uacbd\uc6b0 \ud574\ub2f9 \ubaa8\ub4c8\uc5d0 \uc874\uc7ac\ud558\ub294 '_'\ub85c \uc2dc\uc791\ub418\ub294 \uc774\ub984\ub4e4\uc744 \ud604\uc7ac \uc774\ub984 \uacf5\uac04\uc73c\ub85c \ubd88\ub7ec\uc635\ub2c8\ub2e4."
     ]
    },
    {
     "cell_type": "markdown",
     "metadata": {},
     "source": [
      "<h1>\ubb38\uc81c8 "
     ]
    },
    {
     "cell_type": "code",
     "collapsed": false,
     "input": [],
     "language": "python",
     "metadata": {},
     "outputs": []
    }
   ],
   "metadata": {}
  }
 ]
}