{
 "metadata": {
  "name": "",
  "signature": "sha256:2ff39974b06a39da44a339584198c6a906bae3457a4864bf162ccde54b2c51f1"
 },
 "nbformat": 3,
 "nbformat_minor": 0,
 "worksheets": [
  {
   "cells": [
    {
     "cell_type": "markdown",
     "metadata": {},
     "source": [
      "<h1>\ubb38\uc81c.1<br></h1>\n",
      "[1\ubc88 \ubb38\uc81c] \ud074\ub798\uc2a4\uc640 \ubaa8\ub4c8\uc758 \uacf5\ud1b5\uc810\uacfc \ucc28\uc774\uc810\uc5d0 \ub300\ud574 \uc124\uba85\ud558\uc2dc\uc624."
     ]
    },
    {
     "cell_type": "markdown",
     "metadata": {},
     "source": [
      "\ud074\ub798\uc2a4\uc640 \ubaa8\ub4c8\uc758 \uc8fc\uc694 \ucc28\uc774\uc810\uc740 \ud074\ub798\uc2a4\ub294 \uac1c\uccb4\ub85c \uc778\uc2a4\ud134\uc2a4\ud654\ub420 \uc218 \uc788\uc9c0\ub9cc \ud45c\uc900 \ubaa8\ub4c8\uc740 \uac1c\uccb4\ub85c \uc778\uc2a4\ud134\uc2a4\ud654\ub420 \uc218 \uc5c6\ub2e4\ub294 \uac83\uc785\ub2c8\ub2e4. \ud45c\uc900 \ubaa8\ub4c8\uc758 \ub370\uc774\ud130 \ubcf5\uc0ac\ubcf8\uc740 \ud558\ub098\ub9cc \uc874\uc7ac\ud560 \uc218 \uc788\uc73c\ubbc0\ub85c \ud504\ub85c\uadf8\ub7a8\uc758 \ud55c \ubd80\ubd84\uc5d0\uc11c \ud45c\uc900 \ubaa8\ub4c8\uc758 \uacf5\uc6a9 \ubcc0\uc218\ub97c \ubcc0\uacbd\ud558\uba74 \ud504\ub85c\uadf8\ub7a8\uc758 \ub2e4\ub978 \ubd80\ubd84\uc5d0\uc11c\ub3c4 \ud574\ub2f9 \ubcc0\uc218\ub97c \uc77d\uc744 \ub54c \ub3d9\uc77c\ud55c \uac12\uc744 \uc5bb\uc2b5\ub2c8\ub2e4. \ubc18\uba74 \uac1c\uccb4 \ub370\uc774\ud130\ub294 \uc778\uc2a4\ud134\uc2a4\ud654\ub41c \uac01 \uac1c\uccb4\ub9c8\ub2e4 \ubcc4\ub3c4\ub85c \uc874\uc7ac\ud569\ub2c8\ub2e4. \ubfd0\ub9cc \uc544\ub2c8\ub77c \ud45c\uc900 \ubaa8\ub4c8\uacfc \ub2ec\ub9ac \ud074\ub798\uc2a4\ub294 \uc778\ud130\ud398\uc774\uc2a4\ub97c \uad6c\ud604\ud560 \uc218 \uc788\uc2b5\ub2c8\ub2e4."
     ]
    },
    {
     "cell_type": "markdown",
     "metadata": {},
     "source": [
      "<h1>\ubb38\uc81c2 </h1>  <br>\n",
      "[2\ubc88 \ubb38\uc81c] \ub2e4\ud615\uc131\uc5d0 \ub300\ud574 \uc124\uba85\ud558\uace0 \ub2e4\ud615\uc131\uc744 \ubcf4\uc5ec\uc8fc\ub294 \uc790\uc2e0\ub9cc\uc758 \ud30c\uc774\uc36c \ucf54\ub4dc \uc608\uc81c\ub97c \uc81c\uc2dc\ud558\uc2dc\uc624."
     ]
    },
    {
     "cell_type": "markdown",
     "metadata": {},
     "source": [
      "\ub2e4\ud615\uc131\uc774\ub780 \ud558\ub098\uc758 \uba54\uc18c\ub4dc\ub098 \ud074\ub798\uc2a4\uac00 \uc788\uc744 \ub54c \uc774\uac83\ub4e4\uc774 \ub2e4\uc591\ud55c \ubc29\ubc95\uc73c\ub85c \ub3d9\uc791\ud558\ub294 \uac83\uc744 \uc758\ubbf8\ud55c\ub2e4"
     ]
    },
    {
     "cell_type": "code",
     "collapsed": false,
     "input": [
      "class Animal:\n",
      "    def cry(self):\n",
      "        print '...'\n",
      " \n",
      "class Dog(Animal):\n",
      "    def cry(self):\n",
      "        print '\uba4d\uba4d'\n",
      " \n",
      "class Duck(Animal):\n",
      "    def cry(self):\n",
      "        print '\uaf65\uaf65'\n",
      " \n",
      "class Fish(Animal):\n",
      "    pass\n",
      " \n",
      "for each in (Dog(),Duck(),Fish()):\n",
      "    each.cry()"
     ],
     "language": "python",
     "metadata": {},
     "outputs": [
      {
       "output_type": "stream",
       "stream": "stdout",
       "text": [
        "\uba4d\uba4d\n",
        "\uaf65\uaf65\n",
        "...\n"
       ]
      }
     ],
     "prompt_number": 1
    },
    {
     "cell_type": "markdown",
     "metadata": {},
     "source": [
      "<h1>\ubb38\uc81c3</h1><br>\n"
     ]
    },
    {
     "cell_type": "markdown",
     "metadata": {},
     "source": [
      "\uc694\uad6c\uc0ac\ud56d 1. \uc0dd\uc131\uc790\uc5d0 count \uac12\uacfc step \uac12\uc744 \uc778\uc790\ub85c \ubc1b\uc744 \uc218 \uc788\ub2e4.<br><br>\n",
      "\n",
      "count: Counter \uc778\uc2a4\ud134\uc2a4\uac00 \uc9c0\ub2c8\ub294 \ucd08\uae30 \uc815\uc218 \uac12<br>\n",
      "step: Counter \uc778\uc2a4\ud134\uc2a4\uc758 count\uac00 \uc99d\uac00\ub418\ub294 \uc99d\ubd84 (defalt \uac12: 1)<br>\n",
      "c = Counter(10) <br>\n",
      "d = Counter(10, 2) <br><br>\n",
      "\uc694\uad6c\uc0ac\ud56d 2. \ub2e4\uc74c\uacfc \uac19\uc774 Counter\uc758 \uc778\uc2a4\ud134\uc2a4\ub97c \ucd9c\ub825\uc744 \ud574\uc8fc\ub294 __str__() \uba54\uc18c\ub4dc\ub97c \uad6c\ud604\ud558\uc2dc\uc624.<br>\n",
      "<br>\n",
      "print c <br>\n",
      "[Count (step: 1)] 10 <br>\n",
      "print d <br>\n",
      "[Count (step: 2)] 10 <br><br>\n",
      "\uc694\uad6c\uc0ac\ud56d 3. \ub2e4\uc74c\uacfc \uac19\uc774 step\uc5d0 \uc8fc\uc5b4\uc9c4 \uc99d\ubd84\ub9cc\ud07c count\ub97c \uc99d\uac00\uc2dc\ud0a4\ub294 incr() \uba54\uc18c\ub4dc\ub97c \uad6c\ud604\ud558\uc2dc\uc624.<br>\n",
      "<br>\n",
      "c.incr() <br>\n",
      " d.incr() <br>\n",
      "print c <br>\n",
      "[Count (step: 1)] 11 <br>\n",
      "print d <br>\n",
      "[Count (step: 2)] 12 <br><br>\n",
      "\uc694\uad6c\uc0ac\ud56d 4. __call__() \uba54\uc18c\ub4dc\ub97c \ucd94\uac00\ud558\uc5ec \uc778\uc2a4\ud134\uc2a4 \uac1d\uccb4\ub97c \uc9c1\uc811 \ud638\ucd9c\ud560 \uc218 \uc788\ub3c4\ub85d \ud558\uc2dc\uc624.<br> \uc778\uc2a4\ud134\uc2a4 \uac1d\uccb4\ub97c \uc9c1\uc811 \ud638\ucd9c\ud588\uc744 \ub54c\uc758 \ub3d9\uc791\ubc29\uc2dd\uc740 incr() \uba54\uc18c\ub4dc\ub97c \ud638\ucd9c\ud558\uc600\uc744 \ub54c\uc640 \ub3d9\uc77c\ud558\ub2e4.<br>\n",
      "<br>\n",
      "c() <br>\n",
      "d() <br>\n",
      "print c <br>\n",
      "[Count (step: 1)] 12 <br>\n",
      " print d <br>\n",
      "[Count (step: 2)] 14 <br>\n",
      "\uc694\uad6c\uc0ac\ud56d 5. \ub2e4\uc74c\uacfc \uac19\uc740 \ub450 \uac1c\uc758 \uc0b0\uc220 \uc5f0\uc0b0 (+, -)\uc774 \uc218\ud589\ub420 \uc218 \uc788\ub3c4\ub85d \uad00\ub828 \uba54\uc18c\ub4dc\ub97c \ucd94\uac00\ud558\uc2dc\uc624.<br>\n",
      "<br>\n",
      " c = c + 5 <br>\n",
      " d = d - 5 <br>\n",
      "print c <br>\n",
      "[Count (step: 1)] 17 <br>\n",
      " print d <br>\n",
      "[Count (step: 2)] 9 <br><br>\n",
      "\uc694\uad6c\uc0ac\ud56d 6. \ub2e4\uc74c\uacfc \uac19\uc740 \uad00\uacc4\uc5f0\uc0b0 (+, -)\uc774 \uc218\ud589\ub420 \uc218 \uc788\ub3c4\ub85d __cmp__() \uba54\uc18c\ub4dc\ub97c \ucd94\uac00\ud558\uc2dc\uc624.<br><br>\n",
      "\n",
      " print c > 10 <br>\n",
      "True <br>\n",
      " print d > 10 <br>\n",
      "False <br>\n",
      " print c < 10 <br>\n",
      "False <br>\n",
      " print d < 10 <br>\n",
      "True <br>\n",
      " print c == 17<br>\n",
      "True <br>\n",
      " print d != 9 <br>\n",
      "False <br>"
     ]
    },
    {
     "cell_type": "code",
     "collapsed": false,
     "input": [],
     "language": "python",
     "metadata": {},
     "outputs": [],
     "prompt_number": 1
    },
    {
     "cell_type": "code",
     "collapsed": false,
     "input": [],
     "language": "python",
     "metadata": {},
     "outputs": []
    }
   ],
   "metadata": {}
  }
 ]
}