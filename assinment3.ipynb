{
 "metadata": {
  "name": "",
  "signature": "sha256:cbbfbf9e22265878940c325a982ba703ebd941d9ad8c8cab73c5e36d2c4d79f0"
 },
 "nbformat": 3,
 "nbformat_minor": 0,
 "worksheets": [
  {
   "cells": [
    {
     "cell_type": "markdown",
     "metadata": {},
     "source": [
      "#\ubb38\uc81c1"
     ]
    },
    {
     "cell_type": "markdown",
     "metadata": {},
     "source": [
      "L=[1, 2, 3, 4, 5]\uc77c \ub54c \ub2e4\uc74c \uac01 \ubb38\uc7a5\uc744 \uc218\ud589\ud55c \ud6c4\uc758 \uacb0\uacfc\ub97c \ubcf4\uace0 \ub0a9\ub4dd\ud560 \ub9cc\ud55c \uc774\uc720\ub97c \uc124\uba85\ud558\uc2dc\uc624.\n",
      "1)\n",
      "L[1:3] = [100]\n",
      "print L\n",
      "2)\n",
      "L[1:3] = [(100)]\n",
      "print L\n",
      "3)\n",
      "L[1:3] = 100\n",
      "print L\n",
      "4)\n",
      "L[1:3] = (100)\n",
      "print L\n",
      "5)\n",
      "L[1:3] = (100, 101, 102)\n",
      "print L\n",
      "6)\n",
      "L[1:3] = [100, 101, 102]\n",
      "print L\n",
      "7)\n",
      "L[1:3] = [(100, 101, 102)]\n",
      "print L\n",
      "8)\n",
      "L[1:3] = [[100, 101, 102]]\n",
      "print L"
     ]
    },
    {
     "cell_type": "code",
     "collapsed": false,
     "input": [
      "#1\n",
      "L = [1,2,3,4,5]\n",
      "L[1:3] = [100]\n",
      "print L"
     ],
     "language": "python",
     "metadata": {},
     "outputs": [
      {
       "output_type": "stream",
       "stream": "stdout",
       "text": [
        "[1, 100, 4, 5]\n"
       ]
      }
     ],
     "prompt_number": 1
    },
    {
     "cell_type": "markdown",
     "metadata": {},
     "source": [
      "[1:3]\uc5d0 \ud574\ub2f9\ud558\ub294 \ubc94\uc704\ub294 2,3 \uc774 100\uc73c\ub85c \ubc14\ub00c\uc5b4\uc11c L = [1,100.4,5]\uac00 \ub41c\ub2e4"
     ]
    },
    {
     "cell_type": "code",
     "collapsed": false,
     "input": [
      "#2\n",
      "L=[1, 2, 3, 4, 5]\n",
      "\n",
      "L[1:3] = [(100)]\n",
      "print L"
     ],
     "language": "python",
     "metadata": {},
     "outputs": [
      {
       "output_type": "stream",
       "stream": "stdout",
       "text": [
        "[1, 100, 4, 5]\n"
       ]
      }
     ],
     "prompt_number": 2
    },
    {
     "cell_type": "markdown",
     "metadata": {},
     "source": [
      "\ub9ac\uc2a4\ud2b8\uc548\uc5d0 \ud29c\ud50c\uc774 \uc788\uc5b4 [1:3]\uc5d0 \ud574\ub2f9\ud558\ub294 2\uac00 100\uc73c\ub85c \ubc14\ub00c\uace0 3\uc740 \uc0ac\ub77c\uc838 L = [1,100,4,5]\uc73c\ub85c \ubc14\ub01d\ub2c8\ub2e4."
     ]
    },
    {
     "cell_type": "code",
     "collapsed": false,
     "input": [
      "#3\n",
      "L = [1,2,3,4,5]\n",
      "L[1:3] = 100\n",
      "print L"
     ],
     "language": "python",
     "metadata": {},
     "outputs": [
      {
       "ename": "TypeError",
       "evalue": "can only assign an iterable",
       "output_type": "pyerr",
       "traceback": [
        "\u001b[1;31m---------------------------------------------------------------------------\u001b[0m\n\u001b[1;31mTypeError\u001b[0m                                 Traceback (most recent call last)",
        "\u001b[1;32m<ipython-input-3-73aac4a0f97f>\u001b[0m in \u001b[0;36m<module>\u001b[1;34m()\u001b[0m\n\u001b[0;32m      1\u001b[0m \u001b[1;31m#3\u001b[0m\u001b[1;33m\u001b[0m\u001b[1;33m\u001b[0m\u001b[0m\n\u001b[0;32m      2\u001b[0m \u001b[0mL\u001b[0m \u001b[1;33m=\u001b[0m \u001b[1;33m[\u001b[0m\u001b[1;36m1\u001b[0m\u001b[1;33m,\u001b[0m\u001b[1;36m2\u001b[0m\u001b[1;33m,\u001b[0m\u001b[1;36m3\u001b[0m\u001b[1;33m,\u001b[0m\u001b[1;36m4\u001b[0m\u001b[1;33m,\u001b[0m\u001b[1;36m5\u001b[0m\u001b[1;33m]\u001b[0m\u001b[1;33m\u001b[0m\u001b[0m\n\u001b[1;32m----> 3\u001b[1;33m \u001b[0mL\u001b[0m\u001b[1;33m[\u001b[0m\u001b[1;36m1\u001b[0m\u001b[1;33m:\u001b[0m\u001b[1;36m3\u001b[0m\u001b[1;33m]\u001b[0m \u001b[1;33m=\u001b[0m \u001b[1;36m100\u001b[0m\u001b[1;33m\u001b[0m\u001b[0m\n\u001b[0m\u001b[0;32m      4\u001b[0m \u001b[1;32mprint\u001b[0m \u001b[0mL\u001b[0m\u001b[1;33m\u001b[0m\u001b[0m\n",
        "\u001b[1;31mTypeError\u001b[0m: can only assign an iterable"
       ]
      }
     ],
     "prompt_number": 3
    },
    {
     "cell_type": "markdown",
     "metadata": {},
     "source": [
      "\ub9ac\uc2a4\ud2b8 \uc6d0\uc18c\uc5d0 \ub300\ud55c \uc2ac\ub77c\uc774\uc2f1 \ud558\ub294 \ubc94\uc704\ubcf4\ub2e4 \uc791\uc744\uacbd\uc6b0 \uc791\uc740 \ubc94\uc704\ub85c \ub300\uccb4 \ub418\uc9c0\ub9cc L[1:3] = 100\uc5d0\uc11c 100\uc774 \ubcc0\uacbd\uac00\ub2a5\ud55c list\ud615\ud0dc\uac00 \uc544\ub2c8\uc5b4\uc11c \uc5d0\ub7ec\uac00 \ubc1c\uc0dd\ud569\ub2c8\ub2e4."
     ]
    },
    {
     "cell_type": "code",
     "collapsed": false,
     "input": [
      "#4\n",
      "L = [1,2,3,4,5]\n",
      "L[1:3] = (100)\n",
      "print L"
     ],
     "language": "python",
     "metadata": {},
     "outputs": [
      {
       "ename": "TypeError",
       "evalue": "can only assign an iterable",
       "output_type": "pyerr",
       "traceback": [
        "\u001b[1;31m---------------------------------------------------------------------------\u001b[0m\n\u001b[1;31mTypeError\u001b[0m                                 Traceback (most recent call last)",
        "\u001b[1;32m<ipython-input-4-27f8e3c06730>\u001b[0m in \u001b[0;36m<module>\u001b[1;34m()\u001b[0m\n\u001b[0;32m      1\u001b[0m \u001b[1;31m#4\u001b[0m\u001b[1;33m\u001b[0m\u001b[1;33m\u001b[0m\u001b[0m\n\u001b[0;32m      2\u001b[0m \u001b[0mL\u001b[0m \u001b[1;33m=\u001b[0m \u001b[1;33m[\u001b[0m\u001b[1;36m1\u001b[0m\u001b[1;33m,\u001b[0m\u001b[1;36m2\u001b[0m\u001b[1;33m,\u001b[0m\u001b[1;36m3\u001b[0m\u001b[1;33m,\u001b[0m\u001b[1;36m4\u001b[0m\u001b[1;33m,\u001b[0m\u001b[1;36m5\u001b[0m\u001b[1;33m]\u001b[0m\u001b[1;33m\u001b[0m\u001b[0m\n\u001b[1;32m----> 3\u001b[1;33m \u001b[0mL\u001b[0m\u001b[1;33m[\u001b[0m\u001b[1;36m1\u001b[0m\u001b[1;33m:\u001b[0m\u001b[1;36m3\u001b[0m\u001b[1;33m]\u001b[0m \u001b[1;33m=\u001b[0m \u001b[1;33m(\u001b[0m\u001b[1;36m100\u001b[0m\u001b[1;33m)\u001b[0m\u001b[1;33m\u001b[0m\u001b[0m\n\u001b[0m\u001b[0;32m      4\u001b[0m \u001b[1;32mprint\u001b[0m \u001b[0mL\u001b[0m\u001b[1;33m\u001b[0m\u001b[0m\n",
        "\u001b[1;31mTypeError\u001b[0m: can only assign an iterable"
       ]
      }
     ],
     "prompt_number": 4
    },
    {
     "cell_type": "markdown",
     "metadata": {},
     "source": [
      "3\ubc88\uac00 \ube44\uc2b7\ud558\uac8c (100)\uc774 \ubcc0\uacbd\uac00\ub294\ud55c list \ud615\ud0dc\uac00 \uc544\ub2c8\uc5b4\uc11c \uc5d0\ub7ec\uac00 \uc0dd\uacbc\uc2b5\ub2c8\ub2e4."
     ]
    },
    {
     "cell_type": "code",
     "collapsed": false,
     "input": [
      "#5\n",
      "L =[1,2,3,4,5]\n",
      "L[1:3] = (100,101,102)\n",
      "print L"
     ],
     "language": "python",
     "metadata": {},
     "outputs": [
      {
       "output_type": "stream",
       "stream": "stdout",
       "text": [
        "[1, 100, 101, 102, 4, 5]\n"
       ]
      }
     ],
     "prompt_number": 5
    },
    {
     "cell_type": "markdown",
     "metadata": {},
     "source": [
      "L[1:3]\uc740 2,3\uc774\uace0 \uc5ec\uae30 (100,101,102)\uac00 \ub4e4\uc5b4\uac00 list\uc5d0 \uc800\uc7a5 \ub429\ub2c8\ub2e4."
     ]
    },
    {
     "cell_type": "code",
     "collapsed": false,
     "input": [
      "#6\n",
      "L = [1,2,3,4,5]\n",
      "L[1:3] = [100,101,102]\n",
      "print L\n"
     ],
     "language": "python",
     "metadata": {},
     "outputs": [
      {
       "output_type": "stream",
       "stream": "stdout",
       "text": [
        "[1, 100, 101, 102, 4, 5]\n"
       ]
      }
     ],
     "prompt_number": 6
    },
    {
     "cell_type": "markdown",
     "metadata": {},
     "source": [
      "L[1:3]\uc740 2,3 \uc774\uace0 \uc5ec\uae30\uc5d0[100,101,102]\uac00 \ub4e4\uc5b4\uac00 list\uc5d0 \uc800\uc7a5\ub429\ub2c8\ub2e4."
     ]
    },
    {
     "cell_type": "code",
     "collapsed": false,
     "input": [
      "#7\n",
      "L = [1,2,3,4,5]\n",
      "L[1:3] = [(100,101,102)]\n",
      "print L\n"
     ],
     "language": "python",
     "metadata": {},
     "outputs": [
      {
       "output_type": "stream",
       "stream": "stdout",
       "text": [
        "[1, (100, 101, 102), 4, 5]\n"
       ]
      }
     ],
     "prompt_number": 7
    },
    {
     "cell_type": "markdown",
     "metadata": {},
     "source": [
      "L[1:3]\uc740 2,3\uc774\uace0 \uc5ec\uae30\uc5d0 \ub9ac\uc2a4\ud2b8 [(100,101,102)]\uac00 \ub4e4\uc5b4\uac00\uac8c \ub418\uc5b4 \ud29c\ud50c\uc774 \ud558\ub098 \uc6d0\uc18c\ucc98\ub7fc \ub4e4\uc5b4\uac00 3\ubc88\uc9f8\ub294 \uc2ac\ub77c\uc774\uc2f1 \ub418\uc5b4 \uc5c6\uc5b4\uc84c\uc2b5\ub2c8\ub2e4."
     ]
    },
    {
     "cell_type": "code",
     "collapsed": false,
     "input": [
      "#8\n",
      "L = [1,2,3,4,5]\n",
      "L[1:3] = [[100,101,102]]\n",
      "print L"
     ],
     "language": "python",
     "metadata": {},
     "outputs": [
      {
       "output_type": "stream",
       "stream": "stdout",
       "text": [
        "[1, [100, 101, 102], 4, 5]\n"
       ]
      }
     ],
     "prompt_number": 8
    },
    {
     "cell_type": "markdown",
     "metadata": {},
     "source": [
      "L[1:3]\uc740 2,3\uc774\uace0 \uc5ec\uae30 [[100,101,102]]\uac00 \ub4e4\uc5b4\uac00\uac8c \ub418\uba74 \ub9ac\uc2a4\ud2b8\uac00 \ud558\ub098 \uc6d0\uc18c \ucc98\ub7fc \ub4e4\uc5b4\uac00 L[1]\uc548\uc5d0 [100,101,102]\uac00 \ub4e4\uc5b4\uac11\ub2c8\ub2e4"
     ]
    },
    {
     "cell_type": "markdown",
     "metadata": {},
     "source": [
      "#\ubb38\uc81c2"
     ]
    },
    {
     "cell_type": "markdown",
     "metadata": {},
     "source": [
      "\ubb38\uc790\uc5f4 S = 'Hello World and Python'\uc5d0 \ub300\ud574 \ub2e4\uc74c \uc694\uad6c\uc0ac\ud56d\uc5d0 \ub300\ud55c Python \ucf54\ub4dc\ub97c \uc81c\uc2dc\ud558\uc2dc\uc624.\n",
      "\n",
      "1) \ub2e8\uc5b4\uc758 \uc21c\uc11c\uac00 \uc5ed\uc21c\uc73c\ub85c \ub418\uc5b4\uc9c4 \ubb38\uc790\uc5f4 ('Python and World Hello')\uc744 \ub9cc\ub4e4\uace0\n",
      "2) 1)\uc758 \uacb0\uacfc \ubb38\uc790\uc5f4\uc5d0 \ub300\ud574 \uba54\uc18c\ub4dc split\uacfc join\uc744 \uc774\uc6a9\ud558\uc5ec \uacf5\ubc31\uc744 \ubaa8\ub450 \uc5c6\uc5d4 \ubb38\uc790\uc5f4 'PythonandWorldHello'\uc744 \ub9cc\ub4dc\uc2dc\uc624."
     ]
    },
    {
     "cell_type": "code",
     "collapsed": false,
     "input": [
      "#1\n",
      "s = 'Hello World and Python'\n",
      "a = []\n",
      "a = s.split()\n",
      "a.reverse()\n",
      "\n",
      "print a\n",
      "print\n",
      "\n",
      "s= ''.join(a)\n",
      "print s"
     ],
     "language": "python",
     "metadata": {},
     "outputs": [
      {
       "output_type": "stream",
       "stream": "stdout",
       "text": [
        "['Python', 'and', 'World', 'Hello']\n",
        "\n",
        "PythonandWorldHello\n"
       ]
      }
     ],
     "prompt_number": 13
    },
    {
     "cell_type": "markdown",
     "metadata": {},
     "source": [
      "a\ub85c \ub9ac\uc2a4\ud2b8\ub85c \ub9cc\ub4e0\ud6c4 split \ud55c \ud6c4 \uc5ed\uc21c\uc73c\ub85c \ubc14\uafb8\ub294 \ub0b4\uc7a5\ud568\uc218 reverse() \uc0ac\uc6a9\ud558\uace0\n",
      "\ub2e4\uc2dc \ubb38\uc790\uc5f4\ub85c \ubc14\uafb8\uace0 join \ud574\uc11c \uacf5\ubc31\uc744 \uc81c\uac70 \ud558\uc600\uc2b5\ub2c8\ub2e4"
     ]
    },
    {
     "cell_type": "markdown",
     "metadata": {},
     "source": [
      "#\ubb38\uc81c3"
     ]
    },
    {
     "cell_type": "markdown",
     "metadata": {},
     "source": [
      "\n",
      "\ubb38\uc81c 3\n",
      "\ub2e4\uc74c \ucf54\ub4dc\ub97c \ubcf4\uace0 \ubb3c\uc74c\uc5d0 \ub2f5\ud558\uc2dc\uc624.\n",
      "\n",
      "a = [1, 2, 3]<br/>\n",
      "b = a x 3<br/>\n",
      "c = [a] x 3<br/>\n",
      "\n",
      "print b<br/>\n",
      "print c<br/>\n",
      "1) \uc704 \ucf54\ub4dc\ub97c \uc218\ud589\ud55c \uc774\ud6c4 \ub2e4\uc74c \ucf54\ub4dc\ub97c \uc218\ud589\ud55c \ud6c4 b\uc640 c\uc758 \ub0b4\uc6a9\uc744 \ud655\uc778\ud558\uc2dc\uc624.\n",
      "\n",
      "a[0]=0\n",
      "\n",
      "2) b\uc640 c \uac1d\uccb4\uc758 \ucc28\uc774\ub294 \ubb34\uc5c7\uc778\uac00?"
     ]
    },
    {
     "cell_type": "code",
     "collapsed": false,
     "input": [
      "a = [1, 2, 3]\n",
      "b = a * 3\n",
      "c = [a] * 3\n",
      "\n",
      "print b\n",
      "print c\n",
      "print\n",
      "\n",
      "a[0] = 0\n",
      "\n",
      "print b\n",
      "print c"
     ],
     "language": "python",
     "metadata": {},
     "outputs": [
      {
       "output_type": "stream",
       "stream": "stdout",
       "text": [
        "[1, 2, 3, 1, 2, 3, 1, 2, 3]\n",
        "[[1, 2, 3], [1, 2, 3], [1, 2, 3]]\n",
        "\n",
        "[1, 2, 3, 1, 2, 3, 1, 2, 3]\n",
        "[[0, 2, 3], [0, 2, 3], [0, 2, 3]]\n"
       ]
      }
     ],
     "prompt_number": 15
    },
    {
     "cell_type": "markdown",
     "metadata": {},
     "source": [
      "b\ub294 a \ub9ac\uc2a4\ud2b8\ub97c *\ud574\uc11c 3\ubc88\uc744 \ub808\ud37c\ub7f0\uc2a4 \ub41c\uac83\uc774\uace0\n",
      "c\ub294 a\ub97c \uc595\uc740\ubcf5\uc0ac\ub97c \ud55c\uac83\uc774\ub2e4.\n",
      "a\uc5d0\uc11c b\ub294 \ub9ac\uc2a4\ud2b8\ub97c \ubc1b\uc740\uac83\uc774\ub77c \uac12 \ubcc0\ub3d9\uc774 \uc5c6\uace0, c\ub294 \uac12\uc5d0 \uc601\ud5a5\uc744 \ubc1b\uc544 \uac01 \ub9ac\uc2a4\ud2b8\uc758 \ucc98\uc74c\uc5d0 0\uc774 \ub4e4\uc5b4\uac14\uc2b5\ub2c8\ub2e4."
     ]
    },
    {
     "cell_type": "markdown",
     "metadata": {},
     "source": [
      "#\ubb38\uc81c4"
     ]
    },
    {
     "cell_type": "markdown",
     "metadata": {},
     "source": [
      "\ub2e4\uc74c \ubb38\uc790\uc5f4\uc744 ':'\uc744 \uae30\uc900\uc73c\ub85c \ubd84\ub9ac\ud558\uc5ec \ub9ac\uc2a4\ud2b8\ub85c \ub9cc\ub4e4\uace0 \uac01 \ubb38\uc790\uc5f4\uc758 \uc88c\uc6b0 \uacf5\ubc31\uc744 \uc81c\uac70\ud558\uc2dc\uc624 (\uc989, \ubb38\uc790\uc5f4 S\uc5d0\uc11c l\uc744 \ub9cc\ub4e4\uc5b4\ub77c)\n",
      "\n",
      "s = '  first star   :   second star   :    third star  '\n",
      "l = ['first star', 'second star', 'third star']\n",
      "1) for ~ in \ubb38\uc744 \uc774\uc6a9\ud55c \ucf54\ub4dc\ub97c \uc791\uc131\ud558\uc2dc\uc624.\n",
      "2) \ub9ac\uc2a4\ud2b8 \ub0b4\ud3ec(list comprehension)\ub97c \uc774\uc6a9\ud55c \ucf54\ub4dc\ub97c \uc791\uc131\ud558\uc2dc\uc624."
     ]
    },
    {
     "cell_type": "code",
     "collapsed": false,
     "input": [
      "#1\n",
      "s = '  first star   :   second star   :    third star  '\n",
      "a= s.split(':')\n",
      "b =a\n",
      "\n",
      "print s\n",
      "print\n",
      "\n",
      "for x in range(len(a)):\n",
      "   b[x] = a[x].strip()\n",
      "    \n",
      "print b"
     ],
     "language": "python",
     "metadata": {},
     "outputs": [
      {
       "output_type": "stream",
       "stream": "stdout",
       "text": [
        "  first star   :   second star   :    third star  \n",
        "\n",
        "['first star', 'second star', 'third star']\n"
       ]
      }
     ],
     "prompt_number": 20
    },
    {
     "cell_type": "markdown",
     "metadata": {},
     "source": [
      "\ubc30\uc5f4\uc744 ':' \uae30\uc900\uc73c\ub85c a\ub97c split\ud55c\ub2e4. \uadf8\uac78 b\uc5d0 \uc800\uc7a5\uc2dc\ud0a4\uace0 \u3163\uacb0\uacfc\ub97c \uc800\uc7a5\ud560 \ubc30\uc5f4 b\uc5d0 \ubcf5\uc0ac\ud558\uc5ec \uc800\uc7a5\ud55c\ub2e4. for\ubc18\ubcf5\ubb38\uc5d0 strip\uc744 \uc774\uc6a9\ud574 \uacf5\ubc31\uc744 \uc5c6\uc560 \uc8fc\uc5c8\uc2b5\ub2c8\ub2e4."
     ]
    },
    {
     "cell_type": "code",
     "collapsed": false,
     "input": [
      "#2\n",
      "s = '  first star   :   second star   :    third star  '\n",
      "a = s.split(':')\n",
      "b = a\n",
      "print a\n",
      "print\n",
      "\n",
      "a = [b[x].split() for x in range(len(a))]\n",
      "print b\n",
      "\n"
     ],
     "language": "python",
     "metadata": {},
     "outputs": [
      {
       "output_type": "stream",
       "stream": "stdout",
       "text": [
        "['  first star   ', '   second star   ', '    third star  ']\n",
        "\n",
        "['  first star   ', '   second star   ', '    third star  ']\n"
       ]
      }
     ],
     "prompt_number": 22
    },
    {
     "cell_type": "markdown",
     "metadata": {},
     "source": [
      "\ub9ac\uc2a4\ud2b8 \ub0b4\ud3ec\ub97c \uc774\uc6a9 for\ubb38\uc5d0 \uc788\ub354\uac83\uc744 for \ubc16\uc5d0\uc11c \ub9ac\uc2a4\ud2b8\ub97c \ub9cc\ub4e4\uc5b4\uc11c \uc548\uc73c\ub85c \ub123\uc5b4 \uc8fc\uc5c8\uc2b5\ub2c8\ub2e4."
     ]
    },
    {
     "cell_type": "markdown",
     "metadata": {},
     "source": [
      "#\ubb38\uc81c5\n"
     ]
    },
    {
     "cell_type": "markdown",
     "metadata": {},
     "source": [
      "\ub2e4\uc74c\uacfc \uac19\uc774 0\ubcf4\ub2e4 \ud070 \uc815\uc218 \ub9ac\uc2a4\ud2b8 \ubcc0\uc218 list\ub97c \uc778\uc790\ub85c \ubc1b\ub294 \ud568\uc218 addall(list)\uc640 addallodd(list)\ub97c for ~ in \ub9ac\ud130\ub110\uacfc \ub9ac\uc2a4\ud2b8 \ub0b4\ud3ec \ubc29\uc2dd\uc73c\ub85c \uac01\uac01 \uc81c\uc2dc\ud558\uc2dc\uc624.\n",
      "1) addall(list) \ud568\uc218 (\ub9ac\uc2a4\ud2b8 \ub0b4\uc758 \ubaa8\ub4e0 \uc815\uc218\ub97c \ub354\ud558\ub294 \ud568\uc218\ub85c\uc11c \ud574\ub2f5\uc73c\ub85c\ub294 for ~ in \ub9ac\ud130\ub7f4\uacfc \ub9ac\uc2a4\ud2b8 \ub0b4\ud3ec \ubc29\uc2dd\uc73c\ub85c \uac01\uac01 \uc81c\uc2dc\ud558\uc2dc\uc624.)\n",
      "addall([1])\n",
      "1\n",
      "addall([1, 2, 3, 4, 5, 6, 7, 8, 9])\n",
      "45\n",
      "2) addallodd(list) \ud568\uc218 (\ub9ac\uc2a4\ud2b8\ub0b4\uc758 \ubaa8\ub4e0 \ud640\uc218\ub97c \ub354\ud558\ub294 \ud568\uc218\ub85c\uc11c \ud574\ub2f5\uc73c\ub85c\ub294 for ~ in \ub9ac\ud130\ub7f4\uacfc \ub9ac\uc2a4\ud2b8 \ub0b4\ud3ec \ubc29\uc2dd\uc73c\ub85c \uac01\uac01 \uc81c\uc2dc\ud558\uc2dc\uc624.)\n",
      "addallodd([1])\n",
      "1\n",
      "addallodd([1, 2, 3, 4, 5, 6, 7, 8, 9])\n",
      "25<br/>\n",
      "[\ucc38\uace0 (2014\ub144 10\uc6d4 13\uc77c)]: \ub9ac\uc2a4\ud2b8 \ub0b4\ud3ec \ubc29\uc2dd\uc73c\ub85c addall() \ubc0f addallodd()\ud568\uc218\ub97c \ub9cc\ub4e4 \ub54c\uc5d4 \ub9ac\uc2a4\ud2b8 \ub0b4\ud3ec\uc5d0 \uc758\ud574 \uc0dd\uc131\ub41c \ub9ac\uc2a4\ud2b8 \uacb0\uacfc\uc5d0 \ub300\ud574 \ub0b4\uc7a5 \ud568\uc218\ub97c \uc0ac\uc6a9\ud558\ub294 \ubc29\uc2dd\uc744 \uace0\ub824\ud574\ubcf4\uc2dc\uc624 (\uc8fc\uc758: \ub9ac\uc2a4\ud2b8 \ub0b4\ud3ec \ubc29\uc2dd\uc758 addall() \ubc0f addallodd() \ud568\uc218\uc758 \ubab8\uccb4\ub294 \ub2e8 1\uc904\ub85c \uc791\uc131\ub418\uc5b4\uc57c \ud55c\ub2e4.)"
     ]
    },
    {
     "cell_type": "code",
     "collapsed": false,
     "input": [
      "#1 for ~ in \ub9ac\ud130\ub7f4\n",
      "def addall(_list = [1]) :\n",
      "    _sum = 0\n",
      "    for x in range(len(_list)):\n",
      "        _sum += _list[x]\n",
      "        print _sum\n",
      "    \n",
      "addall()\n",
      "addall([1])\n",
      "addall([1,2,3,4,5,6,7,8,9])\n",
      "print\n",
      "\n",
      "#\ub9ac\uc2a4\ud2b8 \ub0b4\ud3ec \ubc29\uc2dd\n",
      "def addall2(_list2 = [1]) :\n",
      "    _sum2 = 0\n",
      "    _sum2 = sum([_list2[x] for x in range(len(_list2))])\n",
      "    print _sum2\n",
      "\n",
      "addall2()\n",
      "addall2([1])\n",
      "addall2([1, 2, 3, 4, 5, 6, 7, 8, 9])"
     ],
     "language": "python",
     "metadata": {},
     "outputs": [
      {
       "output_type": "stream",
       "stream": "stdout",
       "text": [
        "1\n",
        "1\n",
        "1\n",
        "3\n",
        "6\n",
        "10\n",
        "15\n",
        "21\n",
        "28\n",
        "36\n",
        "45\n",
        "\n",
        "1\n",
        "1\n",
        "45\n"
       ]
      }
     ],
     "prompt_number": 27
    },
    {
     "cell_type": "code",
     "collapsed": false,
     "input": [
      "# for ~in \ub9ac\ud130\ub110\n",
      "def addallodd(_list = [1]) :\n",
      "    _sum = 0\n",
      "    for x in range(len(_list)) :\n",
      "        if (_list[x] % 2 != 0) :\n",
      "            _sum += _list[x]\n",
      "    print _sum\n",
      "    \n",
      "addallodd()\n",
      "addallodd([1])\n",
      "addallodd([1, 2, 3, 4, 5, 6, 7, 8, 9])\n",
      "print\n",
      "\n",
      "# \ub9ac\uc2a4\ud2b8 \ub0b4\ud3ec \ubc29\uc2dd\n",
      "def addallodd2(_list2 = [1]) :\n",
      "    _sum2 = 0\n",
      "    _sum2 = sum([_list2[x] for x in range(len(_list2)) if (_list2[x] % 2 != 0)])\n",
      "    print _sum2\n",
      "\n",
      "addallodd2()\n",
      "addallodd2([1])\n",
      "addallodd2([1, 2, 3, 4, 5, 6, 7, 8, 9])"
     ],
     "language": "python",
     "metadata": {},
     "outputs": [
      {
       "output_type": "stream",
       "stream": "stdout",
       "text": [
        "1\n",
        "1\n",
        "25\n",
        "\n",
        "1\n",
        "1\n",
        "25\n"
       ]
      }
     ],
     "prompt_number": 28
    },
    {
     "cell_type": "markdown",
     "metadata": {},
     "source": [
      "#\ubb38\uc81c6"
     ]
    },
    {
     "cell_type": "markdown",
     "metadata": {},
     "source": [
      "\ub2e4\uc74c \ucf54\ub4dc\ub97c \ubcf4\uace0 \ubb3c\uc74c\uc5d0 \ub2f5\ud558\uc2dc\uc624.\n",
      "\n",
      "L1 = [1, 2, 3]\n",
      "L2 = [4, 5, 6]\n",
      "d = {'low':L1, 'high':L2}\n",
      "e = d\n",
      "f = d.copy()\n",
      "print d\n",
      "print e\n",
      "print f\n",
      "print\n",
      "d['low'] = [10, 20, 30]\n",
      "d['high'][1] = 500\n",
      "print d\n",
      "print e\n",
      "print f"
     ]
    },
    {
     "cell_type": "code",
     "collapsed": false,
     "input": [
      "L1 = [1, 2, 3]\n",
      "L2 = [4, 5, 6]\n",
      "d = {'low':L1, 'high':L2}\n",
      "e = d\n",
      "f = d.copy()\n",
      "\n",
      "print 'd : ', d\n",
      "print 'e : ', e\n",
      "print 'f : ', f\n",
      "print\n",
      "\n",
      "d['low'] = [10, 20, 30]\n",
      "d['high'][1] = 500\n",
      "\n",
      "print 'd : ', d\n",
      "print 'e : ', e\n",
      "print 'f : ', f"
     ],
     "language": "python",
     "metadata": {},
     "outputs": [
      {
       "output_type": "stream",
       "stream": "stdout",
       "text": [
        "d :  {'high': [4, 5, 6], 'low': [1, 2, 3]}\n",
        "e :  {'high': [4, 5, 6], 'low': [1, 2, 3]}\n",
        "f :  {'high': [4, 5, 6], 'low': [1, 2, 3]}\n",
        "\n",
        "d :  {'high': [4, 500, 6], 'low': [10, 20, 30]}\n",
        "e :  {'high': [4, 500, 6], 'low': [10, 20, 30]}\n",
        "f :  {'high': [4, 500, 6], 'low': [1, 2, 3]}\n"
       ]
      }
     ],
     "prompt_number": 1
    },
    {
     "cell_type": "markdown",
     "metadata": {},
     "source": [
      "d..copy()\ub294 \uc595\uc740 \ubcf5\uc0ac \uc774\ub2e4. d['low'] = [10,20,30]\uc5d0\uc11c low\uac12\uc73c\ub85c \uc790\uccb4\ub97c \ubcc0\ud654 \uc2dc\ud0a4\uace0 f\uc5d0 \uc601\ud5a5 \uc8fc\uc9c0 \uc54a\uc2b5\ub2c8\ub2e4. d['high'][1] =500\ub294 high\uc548\uc758 1\ubc88\uc9f8 \uc778\ub371\uc2a4\ub97c \ucc38\uc870\ud558\uace0 \uc788\uae30 \ub54c\ubb38\uc5d0 f\uc5d0 \uc601\ud5a5\uc744 \uc8fc\uac8c \ub418 high \uac12\uc774 \ubc14\ub00c\uac8c \ub418\uc5c8\ub2e4"
     ]
    },
    {
     "cell_type": "markdown",
     "metadata": {},
     "source": [
      "#\ubb38\uc81c7"
     ]
    },
    {
     "cell_type": "markdown",
     "metadata": {},
     "source": [
      "\uc0ac\uc804 d = {'one':1, 'two':2, 'three':3, 'four':4, 'five':5}\uac00 \uc8fc\uc5b4\uc84c\uc744 \ub54c \ub2e4\uc74c \uc694\uad6c\uc0ac\ud56d\uc5d0 \ub9de\ub294 \ucf54\ub4dc\ub97c \uc81c\uc2dc\ud558\uc2dc\uc624\n",
      "\n",
      "[\ucc38\uace0]: d.keys(), d.values()\ub97c \ud1b5\ud574 \ub9ac\uc2a4\ud2b8\ub97c \uc5bb\uc5b4\ub0b8 \ud6c4 \ub9ac\uc2a4\ud2b8\uac00 \uc9c0\ub2c8\uace0 \uc788\ub294 sort(cmp=None, key=None, reverse=False)\ud568\uc218\ub97c \ud65c\uc6a9\ud558\uc2dc\uc624.\n",
      "1) \ud0a4\uc758 \uc54c\ud30c\ubcb3 \uc624\ub984\ucc28\uc21c \uc21c\uc11c\ub300\ub85c \ud29c\ud50c (\ud0a4, \uac12)\uc744 \ucc28\ub840\ub300\ub85c \ucd9c\ub825\ud558\uc2dc\uc624."
     ]
    },
    {
     "cell_type": "code",
     "collapsed": false,
     "input": [
      "#1\n",
      "d = {'one':1, 'two':2, 'three':3, 'four':4, 'five':5}\n",
      "\n",
      "items = d.items()\n",
      "\n",
      "print '\uc815\ub82c \uc804 : ', items\n",
      "items.sort(cmp=None, key=None, reverse=False)\n",
      "\n",
      "print '\uc815\ub82c \ud6c4 : ', items"
     ],
     "language": "python",
     "metadata": {},
     "outputs": [
      {
       "output_type": "stream",
       "stream": "stdout",
       "text": [
        "\uc815\ub82c \uc804 :  [('four', 4), ('three', 3), ('five', 5), ('two', 2), ('one', 1)]\n",
        "\uc815\ub82c \ud6c4 :  [('five', 5), ('four', 4), ('one', 1), ('three', 3), ('two', 2)]\n"
       ]
      }
     ],
     "prompt_number": 4
    },
    {
     "cell_type": "markdown",
     "metadata": {},
     "source": [
      "\ud0a4\uc758 \uc624\ub984\ucc28\uc21c\uc73c\ub85c \uc54c\ubca0\ubcb3\uc744 \uc815\ub82c \ud558\uc600\uc2b5\ub2c8\ub2e4."
     ]
    },
    {
     "cell_type": "code",
     "collapsed": false,
     "input": [
      "#2\n",
      "d = {'one':1, 'two':2, 'three':3, 'four':4, 'five':5}\n",
      "\n",
      "items = d.items()\n",
      "\n",
      "print '\uc815\ub82c \uc804 : ', items\n",
      "items.sort(cmp=None, key=None, reverse=True)\n",
      "\n",
      "print '\uc815\ub82c \ud6c4 : ', items"
     ],
     "language": "python",
     "metadata": {},
     "outputs": []
    },
    {
     "cell_type": "markdown",
     "metadata": {},
     "source": [
      "\ud0a4 \ub0b4\ub9bc\ucc28\uc21c\uc73c\ub85c \uc21c\uc11c\ub300\ub85c \ud29c\ud50c(\ud0a4,\uac12)\uc744 \uc815\ub82c \ud558\uc600\uc2b5\ub2c8\ub2e4."
     ]
    },
    {
     "cell_type": "code",
     "collapsed": false,
     "input": [
      "#3\n",
      "def mycmp(a1, a2) :\n",
      "    a1 = a1[1]\n",
      "    a2 = a2[1]\n",
      "    return cmp(a1, a2)\n",
      "\n",
      "d = {'one':1, 'two':2, 'three':3, 'four':4, 'five':5}\n",
      "\n",
      "\n",
      "items = d.items()\n",
      "\n",
      "print '\uc815\ub82c \uc804 : ', items\n",
      "items.sort(mycmp, key=None, reverse=False)\n",
      "\n",
      "print '\uc815\ub82c \ud6c4 : ', items"
     ],
     "language": "python",
     "metadata": {},
     "outputs": [
      {
       "output_type": "stream",
       "stream": "stdout",
       "text": [
        "\uc815\ub82c \uc804 :  [('four', 4), ('three', 3), ('five', 5), ('two', 2), ('one', 1)]\n",
        "\uc815\ub82c \ud6c4 :  [('one', 1), ('two', 2), ('three', 3), ('four', 4), ('five', 5)]\n"
       ]
      }
     ],
     "prompt_number": 31
    },
    {
     "cell_type": "markdown",
     "metadata": {},
     "source": [
      "\uac12\uc758 \uc624\ub984\ucc28\uc21c \uc21c\uc11c\ub300\ub85c \ud29c\ud50c(\ud0a4,\uac12)\uc744 \ucd9c\ub825\ud558\uc600\uc2b5\ub2c8\ub2e4."
     ]
    },
    {
     "cell_type": "code",
     "collapsed": false,
     "input": [
      "#4\n",
      "def mycmp(a1, a2) :\n",
      "    a1 = a1[1]\n",
      "    a2 = a2[1]\n",
      "    return cmp(a2, a1)\n",
      "\n",
      "d = {'one':1, 'two':2, 'three':3, 'four':4, 'five':5}\n",
      "\n",
      "#print d.keys()\n",
      "#print d.values()\n",
      "#print zip(d.keys(), d.values())\n",
      "items = d.items()\n",
      "\n",
      "print '\uc815\ub82c \uc804 : ', items\n",
      "items.sort(mycmp, key=None, reverse=False)\n",
      "\n",
      "print '\uc815\ub82c \ud6c4 : ', items"
     ],
     "language": "python",
     "metadata": {},
     "outputs": [
      {
       "output_type": "stream",
       "stream": "stdout",
       "text": [
        "\uc815\ub82c \uc804 :  [('four', 4), ('three', 3), ('five', 5), ('two', 2), ('one', 1)]\n",
        "\uc815\ub82c \ud6c4 :  [('five', 5), ('four', 4), ('three', 3), ('two', 2), ('one', 1)]\n"
       ]
      }
     ],
     "prompt_number": 32
    },
    {
     "cell_type": "markdown",
     "metadata": {},
     "source": [
      "\uac12\uc758 \ub0b4\ub9bc\ucc28\uc21c\uc73c\ub85c \ud29c\ud50c\uc744 \uc815\ub82c \ud558\uc600\uc2b5\ub2c8\ub2e4."
     ]
    },
    {
     "cell_type": "markdown",
     "metadata": {},
     "source": [
      "#\ubb38\uc81c8"
     ]
    },
    {
     "cell_type": "markdown",
     "metadata": {},
     "source": [
      "\uc774\uc804 Assignment 2\uc758 \ub9c8\uc9c0\ub9c9 \ubb38\uc81c\ub294 \uc6f9 URL\ub85c \uc9c0\uc815\ub41c \uc6f9\ud398\uc774\uc9c0\ub97c \ubb38\uc790\uc5f4\ub85c \uac00\uc838\uc640 \ubaa8\ub4e0 HTML \ud0dc\uadf8 \ubc0f CSS\uc640 Javascript\ub97c \uc81c\uc678\ud55c \uc21c\uc218 \ud14d\uc2a4\ud2b8\ub97c \uc5bb\uc5b4\ub0b4\uace0 \uadf8 \uc548\uc5d0 \uc874\uc7ac\ud558\ub294 \ub2e8\uc5b4\ub97c \ucd94\ucd9c\ud558\ub294 \ud504\ub85c\uadf8\ub7a8\uc744 \uc791\uc131\ud558\ub294 \uac83\uc774\uc5c8\ub2e4. \uc774\ubc88\uc5d0\ub294 \uadf8 \ub9c8\uc9c0\ub9c9 \uc219\uc81c\ub97c \uadf8\ub300\ub85c \ud655\uc7a5\ud558\uc5ec \uc6f9 URL\ub85c \uc9c0\uc815\ub41c \uc6f9\ud398\uc774\uc9c0 \ub0b4 \uc21c\uc218 \ud14d\uc2a4\ud2b8 \uc548\uc5d0 \uc874\uc7ac\ud558\ub294 \uac01 \ub2e8\uc5b4\ub4e4\uc5d0 \ub300\ud574 \ub2e4\uc74c \uc694\uad6c\uc0ac\ud56d \ub300\ub85c \ucd9c\ub825\ud558\ub294 \ud504\ub85c\uadf8\ub7a8\uc744 \uc791\uc131\ud558\uc2dc\uc624.\n",
      "\n",
      "\uc694\uad6c\uc0ac\ud56d 1. \uc21c\uc218 \ud14d\uc2a4\ud2b8 \uc548\uc5d0 \uc874\uc7ac\ud558\ub294 \ub2e8\uc5b4\ub4e4\uc5d0 \ub300\ud574 string \ubaa8\ub4c8\uc744 \ud65c\uc6a9\ud558\uc5ec \ubaa8\ub4e0 punctuation (\uad6c\ub450\ubb38\uc790)\ub97c \uc644\ubcbd\ud788 \uc81c\uac70\ud558\uc2dc\uc624 (\uad50\uc7ac 166\ud398\uc774\uc9c0 \ucc38\uace0).\n",
      "\n",
      "  \uc608: ['world!', ':', '+hello+', '~python$$$', '=', 'world'] ---> ['world', 'hello', 'python', 'world'] \n",
      "\uc694\uad6c\uc0ac\ud56d 2. \uac01 \ub2e8\uc5b4\ub4e4\uc758 \ucd9c\ud604\ube48\ub3c4\ub97c \uc0ac\uc804\ud615\ud0dc\ub85c \uc800\uc7a5\ud558\uc5ec \ucd9c\ub825\ud558\uc2dc\uc624.\n",
      "\n",
      "  \uc608: ['world', 'hello', 'python', 'world'] ---> {'world': 2, 'hello': 1, 'python': 1} "
     ]
    },
    {
     "cell_type": "code",
     "collapsed": false,
     "input": [
      "import urllib\n",
      "import string\n",
      "\n",
      "k = string.punctuation\n",
      "\n",
      "source = urllib.urlopen(\"http://cse.kut.ac.kr/\").read()\n",
      "\n",
      "\n",
      "len_source = len(source)\n",
      "print \"Initial length of source:\", len_source\n",
      "\n",
      "source_new = None\n",
      "i = 0\n",
      "while (i < len_source):\n",
      "    found = False\n",
      "    if (found != True and source[i] == \"<\" and source[i+1 : i+7].lower() == \"script\"):\n",
      "        found = True;\n",
      "        j = i + 7;\n",
      "        while (True):\n",
      "            if (source[j] == \"<\" and source[j+1] == \"/\" and source[j+2 : j+8].lower() == \"script\"):\n",
      "                #print \"found - script\"\n",
      "                source = source[:i] + ' ' + source[j+9:]\n",
      "                break\n",
      "            j = j + 1\n",
      "            if (j > len_source):\n",
      "                break\n",
      "        len_source = len(source)\n",
      "    i = i + 1\n",
      "\n",
      "len_source = len(source)\n",
      "#print len_source\n",
      "\n",
      "i = 0\n",
      "while (i < len_source):\n",
      "    found = False\n",
      "    if (found != True and source[i] == \"<\" and source[i+1 : i+6].lower() == \"style\"):\n",
      "        found = True;\n",
      "        j = i + 6;\n",
      "        while (True):\n",
      "            if (source[j] == \"<\" and source[j+1] == \"/\" and source[j+2 : j+7].lower() == \"style\"):\n",
      "                #print \"found - style\"\n",
      "                source = source[:i] + ' ' + source[j+8:]\n",
      "                break\n",
      "            j = j + 1\n",
      "            if (j > len_source):\n",
      "                break\n",
      "        len_source = len(source)\n",
      "    i = i + 1\n",
      "\n",
      "len_source = len(source)\n",
      "#print len_source\n",
      "\n",
      "i = 0\n",
      "while (i < len_source):\n",
      "    found = False\n",
      "    if (found != True and source[i] == \"<\"):\n",
      "        found = True;\n",
      "        j = i + 1;\n",
      "        while (True):\n",
      "            if (source[j] == \">\"):\n",
      "                #print \"found - HTML tag\"\n",
      "                source = source[:i] + ' ' + source[j+1:]\n",
      "                break\n",
      "            j = j + 1\n",
      "            if (j > len_source):\n",
      "                break\n",
      "        len_source = len(source)\n",
      "    i = i + 1\n",
      "\n",
      "len_source = len(source)\n",
      "print \"Last length of source:\", len_source\n",
      "\n",
      "wordList = source.split()\n",
      "\n",
      "print \"Total num of plain words:\", len(wordList)\n",
      "\n",
      "source = \" \".join(wordList)\n",
      "\n",
      "\n",
      "# \uadf8\ub0e5 source \ucd9c\ub825\n",
      "print\n",
      "print\n",
      "print '\uadf8\ub0e5 source \ucd9c\ub825 (\ubb38\uc790\uc5f4 \ud615\uc2dd)'\n",
      "print '==========================================================================================================================='\n",
      "print source\n",
      "print\n",
      "\n",
      "# \uad6c\ub450\ubb38\uc790 \uc81c\uac70 \ud6c4 \ucd9c\ub825 new_src\n",
      "new_src = source.translate(None, k)\n",
      "print\n",
      "print '\uad6c\ub450\ubb38\uc790 \uc81c\uac70 \ud6c4 (\ubb38\uc790\uc5f4 \ud615\uc2dd)'\n",
      "print '==========================================================================================================================='\n",
      "print new_src\n",
      "print\n",
      "\n",
      "\n",
      "#\uc694\uad6c\uc0ac\ud56d 2. \uac01 \ub2e8\uc5b4\ub4e4\uc758 \ucd9c\ud604\ube48\ub3c4\ub97c \uc0ac\uc804\ud615\ud0dc\ub85c \uc800\uc7a5\ud558\uc5ec \ucd9c\ub825\ud558\uc2dc\uc624.\n",
      "dictList = new_src.split()\n",
      "\n",
      "tmp_list = []\n",
      "\n",
      "for x in range(len(dictList)) :\n",
      "    if (dictList[x] not in tmp_list) :\n",
      "        tmp_list.append(dictList[x])\n",
      " \n",
      "# new_src\uc5d0\uc11c \uc911\ubcf5\ub41c \ubb38\uc790\ub97c \uc81c\uc678\ud558\uace0 \ucd9c\ub825\n",
      "print\n",
      "print '\uc911\ubcf5\ub41c \ubb38\uc790 \uc81c\uc678 \ud6c4 (\ub9ac\uc2a4\ud2b8 \ud615\uc2dd)'\n",
      "print '==========================================================================================================================='\n",
      "for word in tmp_list :\n",
      "    print '\"' + word + '\" ',\n",
      "\n",
      "values = []\n",
      "print\n",
      "for x in range(len(tmp_list)) :\n",
      "    values.append(new_src.count(tmp_list[x]))\n",
      "\n",
      "print\n",
      "print\n",
      "print '\uc0ac\uc804 \ud615\uc2dd\uc73c\ub85c (\ub2e8\uc5b4 \ucd9c\ub825\ud69f\uc218 \ucd9c\ub825)'\n",
      "print '==========================================================================================================================='\n",
      "\n",
      "\n",
      "dic = dict()\n",
      "\n",
      "for x in range(len(tmp_list)) :\n",
      "    dic[tmp_list[x]] = values[x]\n",
      "    \n",
      "print '{',\n",
      "for key in dic.keys() :\n",
      "    print '\\'' + key + ':',\n",
      "    print str(dic[key]) + '\\'' + ',',\n",
      "print '}'"
     ],
     "language": "python",
     "metadata": {},
     "outputs": [
      {
       "output_type": "stream",
       "stream": "stdout",
       "text": [
        "Initial length of source: 36578\n",
        "Last length of source:"
       ]
      },
      {
       "output_type": "stream",
       "stream": "stdout",
       "text": [
        " 5493\n",
        "Total num of plain words: 197\n",
        "\n",
        "\n",
        "\uadf8\ub0e5 source \ucd9c\ub825 (\ubb38\uc790\uc5f4 \ud615\uc2dd)\n",
        "===========================================================================================================================\n",
        "\ucef4\ud4e8\ud130\uacf5\ud559\ubd80 \ud648\ud398\uc774\uc9c0 \ucef4\ud4e8\ud130\uacf5\ud559\ubd80 : \uad50\uc721\ubaa9\ud45c : \ucc3e\uc544\uc624\uc2dc\ub294\uae38 : \uc878\uc5c5\uc791\ud488 : \uacf5\ud559\uc124\uacc4 : \ucde8\uc5c5\uc870\uc0ac2014 : \ucde8\uc5c5\uc870\uc0ac2013 \uad50\uc218\uc9c4 : \ud559\uc0dd\ud68c \uc878\uc5c5\uc774\uc218\uc694\uac74 : \ucef4\ud4e8\ud130S/W : \ucef4\ud4e8\ud130H/W : \ucef4\ud4e8\ud130\uc2a4\ub9c8\ud2b8IT : \ucef4\ud4e8\ud130\uc2dc\uc2a4\ud15c\uc751\uc6a9 : \uc7a5\ud559\uc81c\ub3c4 \ubaa8\uc9d1\uc694\uac15 : \uc785\uc2dcQ&A \uacf5\uc9c0\uc0ac\ud56d : \uc790\uc720\uac8c\uc2dc\ud310 : \uc775\uba85\uac8c\uc2dc\ud310 : \ucde8\uc5c5\uac8c\uc2dc\ud310 : \ub3d9\ubb38\uac8c\uc2dc\ud310 : \uc0ac\uc9c4\uac8c\uc2dc\ud310 : \ud559\ubd80\uc0ac\uc9c4\uac94\ub7ec\ub9ac : \uace0\uc7a5\uc2e0\uace0\uac8c\uc2dc\ud310 \uac15\uc758\uc790\ub8cc\uc2e4 : \uc77c\ubc18\uc790\ub8cc\uc2e4 : \uc11c\uc2dd\ubc0f\uc591\uc2dd\uc790\ub8cc\uc2e4 \ub300\ud559\uc6d0\uc18c\uac1c : \uc5f0\uad6c\uc2e4\uc18c\uac1c : \ub300\ud559\uc6d0\uac8c\uc2dc\ud310 \uacf5\ud559\uc778\uc99d\uc548\ub0b4 : \uacf5\ud559\uc778\uc99d\uac8c\uc2dc\ud310 : C++ 2014/03/27 \uacf5\ud559\uc124\uacc4 \ud3ec\uc2a4\ud130\ubc1c\ud45c\uacbd\uc9c4\ub300\ud68c \ud22c\ud45c... 2013/12/10 2013\ub144 \uc878\uc5c5\uc791\ud488 \ube0c\ub85c\uc154 2013/10/07 \uc81c 4\ub300 \ucef4\ud4e8\ud130\uacf5\ud559\ubd80 \ud559\ud68c\uc7a5/\ubd80\ud559... 2012/11/05 \ub514\uc9c0\ud138 \uc2dc\uc2a4\ud15c \uc124\uacc41- [\uc2e4\uc2b5-\uc870\uad50] 2012/09/09 \uc18c\ud504\ud2b8\uc6e8\uc5b4\uacf5\ud559 \uc911\uac04\uace0\uc0ac \uacf5\uc9c0. 2014/10/16 \ucef4\ud4e8\ud130\uacf5\ud559\ubd80 \ud559\uc0dd\ub4e4\uc744 \uc704\ud55c \ub18d\uad6c... 2014/10/06 \ud639\uc2dc \ud64d\uc9c4\ud45c \uad50\uc218\ub2d8\uc758 \ucef4\ud4e8\ud130 \uad6c... &nbsp; (2) 2014/10/06 \uc18c\ud504\ud2b8\uc6e8\uc5b4 \uac1c\ubc1c\ubcf4\uc548 \uacbd\uc9c4\ub300\ud68c \uac1c\ucd5c 2014/10/01 2015\ub144 \uc0c1\ubc18\uae30 \uc0bc\uc131 \uc18c\ud504\ud2b8\uc6e8\uc5b4 ... 2014/09/25 \ucf64\ud14d\uc2dc\uc2a4\ud15c \uc2e0\uc785\uc0ac\uc6d0 \ubaa8\uc9d1 2014/10/16 2014\ub144 T-money(\ud55a\uad6d\uc2a4\ub9c8\ud2b8\uce74\ub4dc) ... 2014/10/14 \uc138\ub9bc\ud2f0\ub124\uc2a4\uc9c0(\uc8fc) \uc778\ub825 \ucc44\uc6a9 \uacf5\uace0 2014/09/30 (\uc8fc)\uc5e0\ud504\ub860\ud2f0\uc5b4 \uc2dc\uc2a4\ud15c \uc6b4\uc601/\uac1c\ubc1c ... 2014/09/15 \ucef4\ud4e8\ud130\uacf5\ud559\ubd80 \ud559\ubd80\uc0ac\ubb34\uc2e4 \uccad\ub144\uc778\ud134... 2014/08/06 2014-10-14 ... 2014-10-14 ... [1] 2014\ub144 \uc878\uc5c5... \ud559\uc220\uc81c \ucef4\ud4e8\ud130\uacf5\ud559\ubd80 \uc878\uc5c5\uc791\ud488 \uc778... 2014/10/16 \uc878\uc5c5\uc791\ud488 \ud3ec\uc0c1(\uacbd\uc9c4\ub300\ud68c) \uc548\ub0b4 2014/10/15 \ub300\ud559\uc6d0\uc0dd \ub300\uc0c1 \uc548\uc804\uad50\uc721 \uc548\ub0b4 10... 2014/10/14 [\ud2b9\uc131\ud654\uc0ac\uc5c5\ub2e8] \uc77c\ubcf8\uae30\uc220\ud0d0\ubc29 \uc120... 2014/10/13 2014\ub144 \ud558\ubc18\uae30 \ud154\ucf54\uc6e8\uc5b4(\uc8fc) \uc2e0\uc785... 2014/10/10 \uc878\uc5c5\uc791\ud488 \uc804\uc2dc\ud68c \ucef4\ud4e8\ud130\uacf5\ud559\ubd80 \uc778... 2014/10/07 \uc7ac\uacf5\uc9c0) 12\uc77c \ub9c8\uac10. \uc878\uc5c5\uc791\ud488 \ud3ec... 2014/10/04 CJ\ud5ec\ub85c\ube44\uc804, \ucf00\uc774\ube14\uc5c5\uacc4 \ucd5c\ucd08 `\uc18c... 2014-10-19 SKT, \uc6d4\ub4dcIT\uc1fc\uc5d0 5G \ub4f1 \ub2e4\uc591\ud55c \ud1b5... 2014-10-19 [2014 \ubbf8\ub798\ucc3d\uc870\uacfc\ud559\ubd80\uc7a5\uad00\ubc30 \ucd95\uad6c... 2014-10-19 [2014 \ubbf8\ub798\ucc3d\uc870\uacfc\ud559\ubd80\uc7a5\uad00\ubc30 \ucd95\uad6c... 2014-10-19 [2014 \ubbf8\ub798\ucc3d\uc870\uacfc\ud559\ubd80\uc7a5\uad00\ubc30 \ucd95\uad6c... 2014-10-19\n",
        "\n",
        "\n",
        "\uad6c\ub450\ubb38\uc790 \uc81c\uac70 \ud6c4 (\ubb38\uc790\uc5f4 \ud615\uc2dd)\n",
        "===========================================================================================================================\n",
        "\ucef4\ud4e8\ud130\uacf5\ud559\ubd80 \ud648\ud398\uc774\uc9c0 \ucef4\ud4e8\ud130\uacf5\ud559\ubd80  \uad50\uc721\ubaa9\ud45c  \ucc3e\uc544\uc624\uc2dc\ub294\uae38  \uc878\uc5c5\uc791\ud488  \uacf5\ud559\uc124\uacc4  \ucde8\uc5c5\uc870\uc0ac2014  \ucde8\uc5c5\uc870\uc0ac2013 \uad50\uc218\uc9c4  \ud559\uc0dd\ud68c \uc878\uc5c5\uc774\uc218\uc694\uac74  \ucef4\ud4e8\ud130SW  \ucef4\ud4e8\ud130HW  \ucef4\ud4e8\ud130\uc2a4\ub9c8\ud2b8IT  \ucef4\ud4e8\ud130\uc2dc\uc2a4\ud15c\uc751\uc6a9  \uc7a5\ud559\uc81c\ub3c4 \ubaa8\uc9d1\uc694\uac15  \uc785\uc2dcQA \uacf5\uc9c0\uc0ac\ud56d  \uc790\uc720\uac8c\uc2dc\ud310  \uc775\uba85\uac8c\uc2dc\ud310  \ucde8\uc5c5\uac8c\uc2dc\ud310  \ub3d9\ubb38\uac8c\uc2dc\ud310  \uc0ac\uc9c4\uac8c\uc2dc\ud310  \ud559\ubd80\uc0ac\uc9c4\uac94\ub7ec\ub9ac  \uace0\uc7a5\uc2e0\uace0\uac8c\uc2dc\ud310 \uac15\uc758\uc790\ub8cc\uc2e4  \uc77c\ubc18\uc790\ub8cc\uc2e4  \uc11c\uc2dd\ubc0f\uc591\uc2dd\uc790\ub8cc\uc2e4 \ub300\ud559\uc6d0\uc18c\uac1c  \uc5f0\uad6c\uc2e4\uc18c\uac1c  \ub300\ud559\uc6d0\uac8c\uc2dc\ud310 \uacf5\ud559\uc778\uc99d\uc548\ub0b4  \uacf5\ud559\uc778\uc99d\uac8c\uc2dc\ud310  C 20140327 \uacf5\ud559\uc124\uacc4 \ud3ec\uc2a4\ud130\ubc1c\ud45c\uacbd\uc9c4\ub300\ud68c \ud22c\ud45c 20131210 2013\ub144 \uc878\uc5c5\uc791\ud488 \ube0c\ub85c\uc154 20131007 \uc81c 4\ub300 \ucef4\ud4e8\ud130\uacf5\ud559\ubd80 \ud559\ud68c\uc7a5\ubd80\ud559 20121105 \ub514\uc9c0\ud138 \uc2dc\uc2a4\ud15c \uc124\uacc41 \uc2e4\uc2b5\uc870\uad50 20120909 \uc18c\ud504\ud2b8\uc6e8\uc5b4\uacf5\ud559 \uc911\uac04\uace0\uc0ac \uacf5\uc9c0 20141016 \ucef4\ud4e8\ud130\uacf5\ud559\ubd80 \ud559\uc0dd\ub4e4\uc744 \uc704\ud55c \ub18d\uad6c 20141006 \ud639\uc2dc \ud64d\uc9c4\ud45c \uad50\uc218\ub2d8\uc758 \ucef4\ud4e8\ud130 \uad6c nbsp 2 20141006 \uc18c\ud504\ud2b8\uc6e8\uc5b4 \uac1c\ubc1c\ubcf4\uc548 \uacbd\uc9c4\ub300\ud68c \uac1c\ucd5c 20141001 2015\ub144 \uc0c1\ubc18\uae30 \uc0bc\uc131 \uc18c\ud504\ud2b8\uc6e8\uc5b4  20140925 \ucf64\ud14d\uc2dc\uc2a4\ud15c \uc2e0\uc785\uc0ac\uc6d0 \ubaa8\uc9d1 20141016 2014\ub144 Tmoney\ud55a\uad6d\uc2a4\ub9c8\ud2b8\uce74\ub4dc  20141014 \uc138\ub9bc\ud2f0\ub124\uc2a4\uc9c0\uc8fc \uc778\ub825 \ucc44\uc6a9 \uacf5\uace0 20140930 \uc8fc\uc5e0\ud504\ub860\ud2f0\uc5b4 \uc2dc\uc2a4\ud15c \uc6b4\uc601\uac1c\ubc1c  20140915 \ucef4\ud4e8\ud130\uacf5\ud559\ubd80 \ud559\ubd80\uc0ac\ubb34\uc2e4 \uccad\ub144\uc778\ud134 20140806 20141014  20141014  1 2014\ub144 \uc878\uc5c5 \ud559\uc220\uc81c \ucef4\ud4e8\ud130\uacf5\ud559\ubd80 \uc878\uc5c5\uc791\ud488 \uc778 20141016 \uc878\uc5c5\uc791\ud488 \ud3ec\uc0c1\uacbd\uc9c4\ub300\ud68c \uc548\ub0b4 20141015 \ub300\ud559\uc6d0\uc0dd \ub300\uc0c1 \uc548\uc804\uad50\uc721 \uc548\ub0b4 10 20141014 \ud2b9\uc131\ud654\uc0ac\uc5c5\ub2e8 \uc77c\ubcf8\uae30\uc220\ud0d0\ubc29 \uc120 20141013 2014\ub144 \ud558\ubc18\uae30 \ud154\ucf54\uc6e8\uc5b4\uc8fc \uc2e0\uc785 20141010 \uc878\uc5c5\uc791\ud488 \uc804\uc2dc\ud68c \ucef4\ud4e8\ud130\uacf5\ud559\ubd80 \uc778 20141007 \uc7ac\uacf5\uc9c0 12\uc77c \ub9c8\uac10 \uc878\uc5c5\uc791\ud488 \ud3ec 20141004 CJ\ud5ec\ub85c\ube44\uc804 \ucf00\uc774\ube14\uc5c5\uacc4 \ucd5c\ucd08 \uc18c 20141019 SKT \uc6d4\ub4dcIT\uc1fc\uc5d0 5G \ub4f1 \ub2e4\uc591\ud55c \ud1b5 20141019 2014 \ubbf8\ub798\ucc3d\uc870\uacfc\ud559\ubd80\uc7a5\uad00\ubc30 \ucd95\uad6c 20141019 2014 \ubbf8\ub798\ucc3d\uc870\uacfc\ud559\ubd80\uc7a5\uad00\ubc30 \ucd95\uad6c 20141019 2014 \ubbf8\ub798\ucc3d\uc870\uacfc\ud559\ubd80\uc7a5\uad00\ubc30 \ucd95\uad6c 20141019\n",
        "\n",
        "\n",
        "\uc911\ubcf5\ub41c \ubb38\uc790 \uc81c\uc678 \ud6c4 (\ub9ac\uc2a4\ud2b8 \ud615\uc2dd)\n",
        "===========================================================================================================================\n",
        "\"\ucef4\ud4e8\ud130\uacf5\ud559\ubd80\"  \"\ud648\ud398\uc774\uc9c0\"  \"\uad50\uc721\ubaa9\ud45c\"  \"\ucc3e\uc544\uc624\uc2dc\ub294\uae38\"  \"\uc878\uc5c5\uc791\ud488\"  \"\uacf5\ud559\uc124\uacc4\"  \"\ucde8\uc5c5\uc870\uc0ac2014\"  \"\ucde8\uc5c5\uc870\uc0ac2013\"  \"\uad50\uc218\uc9c4\"  \"\ud559\uc0dd\ud68c\"  \"\uc878\uc5c5\uc774\uc218\uc694\uac74\"  \"\ucef4\ud4e8\ud130SW\"  \"\ucef4\ud4e8\ud130HW\"  \"\ucef4\ud4e8\ud130\uc2a4\ub9c8\ud2b8IT\"  \"\ucef4\ud4e8\ud130\uc2dc\uc2a4\ud15c\uc751\uc6a9\"  \"\uc7a5\ud559\uc81c\ub3c4\"  \"\ubaa8\uc9d1\uc694\uac15\"  \"\uc785\uc2dcQA\"  \"\uacf5\uc9c0\uc0ac\ud56d\"  \"\uc790\uc720\uac8c\uc2dc\ud310\"  \"\uc775\uba85\uac8c\uc2dc\ud310\"  \"\ucde8\uc5c5\uac8c\uc2dc\ud310\"  \"\ub3d9\ubb38\uac8c\uc2dc\ud310\"  \"\uc0ac\uc9c4\uac8c\uc2dc\ud310\"  \"\ud559\ubd80\uc0ac\uc9c4\uac94\ub7ec\ub9ac\"  \"\uace0\uc7a5\uc2e0\uace0\uac8c\uc2dc\ud310\"  \"\uac15\uc758\uc790\ub8cc\uc2e4\"  \"\uc77c\ubc18\uc790\ub8cc\uc2e4\"  \"\uc11c\uc2dd\ubc0f\uc591\uc2dd\uc790\ub8cc\uc2e4\"  \"\ub300\ud559\uc6d0\uc18c\uac1c\"  \"\uc5f0\uad6c\uc2e4\uc18c\uac1c\"  \"\ub300\ud559\uc6d0\uac8c\uc2dc\ud310\"  \"\uacf5\ud559\uc778\uc99d\uc548\ub0b4\"  \"\uacf5\ud559\uc778\uc99d\uac8c\uc2dc\ud310\"  \"C\"  \"20140327\"  \"\ud3ec\uc2a4\ud130\ubc1c\ud45c\uacbd\uc9c4\ub300\ud68c\"  \"\ud22c\ud45c\"  \"20131210\"  \"2013\ub144\"  \"\ube0c\ub85c\uc154\"  \"20131007\"  \"\uc81c\"  \"4\ub300\"  \"\ud559\ud68c\uc7a5\ubd80\ud559\"  \"20121105\"  \"\ub514\uc9c0\ud138\"  \"\uc2dc\uc2a4\ud15c\"  \"\uc124\uacc41\"  \"\uc2e4\uc2b5\uc870\uad50\"  \"20120909\"  \"\uc18c\ud504\ud2b8\uc6e8\uc5b4\uacf5\ud559\"  \"\uc911\uac04\uace0\uc0ac\"  \"\uacf5\uc9c0\"  \"20141016\"  \"\ud559\uc0dd\ub4e4\uc744\"  \"\uc704\ud55c\"  \"\ub18d\uad6c\"  \"20141006\"  \"\ud639\uc2dc\"  \"\ud64d\uc9c4\ud45c\"  \"\uad50\uc218\ub2d8\uc758\"  \"\ucef4\ud4e8\ud130\"  \"\uad6c\"  \"nbsp\"  \"2\"  \"\uc18c\ud504\ud2b8\uc6e8\uc5b4\"  \"\uac1c\ubc1c\ubcf4\uc548\"  \"\uacbd\uc9c4\ub300\ud68c\"  \"\uac1c\ucd5c\"  \"20141001\"  \"2015\ub144\"  \"\uc0c1\ubc18\uae30\"  \"\uc0bc\uc131\"  \"20140925\"  \"\ucf64\ud14d\uc2dc\uc2a4\ud15c\"  \"\uc2e0\uc785\uc0ac\uc6d0\"  \"\ubaa8\uc9d1\"  \"2014\ub144\"  \"Tmoney\ud55a\uad6d\uc2a4\ub9c8\ud2b8\uce74\ub4dc\"  \"20141014\"  \"\uc138\ub9bc\ud2f0\ub124\uc2a4\uc9c0\uc8fc\"  \"\uc778\ub825\"  \"\ucc44\uc6a9\"  \"\uacf5\uace0\"  \"20140930\"  \"\uc8fc\uc5e0\ud504\ub860\ud2f0\uc5b4\"  \"\uc6b4\uc601\uac1c\ubc1c\"  \"20140915\"  \"\ud559\ubd80\uc0ac\ubb34\uc2e4\"  \"\uccad\ub144\uc778\ud134\"  \"20140806\"  \"1\"  \"\uc878\uc5c5\"  \"\ud559\uc220\uc81c\"  \"\uc778\"  \"\ud3ec\uc0c1\uacbd\uc9c4\ub300\ud68c\"  \"\uc548\ub0b4\"  \"20141015\"  \"\ub300\ud559\uc6d0\uc0dd\"  \"\ub300\uc0c1\"  \"\uc548\uc804\uad50\uc721\"  \"10\"  \"\ud2b9\uc131\ud654\uc0ac\uc5c5\ub2e8\"  \"\uc77c\ubcf8\uae30\uc220\ud0d0\ubc29\"  \"\uc120\"  \"20141013\"  \"\ud558\ubc18\uae30\"  \"\ud154\ucf54\uc6e8\uc5b4\uc8fc\"  \"\uc2e0\uc785\"  \"20141010\"  \"\uc804\uc2dc\ud68c\"  \"20141007\"  \"\uc7ac\uacf5\uc9c0\"  \"12\uc77c\"  \"\ub9c8\uac10\"  \"\ud3ec\"  \"20141004\"  \"CJ\ud5ec\ub85c\ube44\uc804\"  \"\ucf00\uc774\ube14\uc5c5\uacc4\"  \"\ucd5c\ucd08\"  \"\uc18c\"  \"20141019\"  \"SKT\"  \"\uc6d4\ub4dcIT\uc1fc\uc5d0\"  \"5G\"  \"\ub4f1\"  \"\ub2e4\uc591\ud55c\"  \"\ud1b5\"  \"2014\"  \"\ubbf8\ub798\ucc3d\uc870\uacfc\ud559\ubd80\uc7a5\uad00\ubc30\"  \"\ucd95\uad6c\" \n",
        "\n",
        "\n",
        "\uc0ac\uc804 \ud615\uc2dd\uc73c\ub85c (\ub2e8\uc5b4 \ucd9c\ub825\ud69f\uc218 \ucd9c\ub825)\n",
        "===========================================================================================================================\n",
        "{ '\uc785\uc2dcQA: 1', '\ucef4\ud4e8\ud130\uc2dc\uc2a4\ud15c\uc751\uc6a9: 1', '\uc548\uc804\uad50\uc721: 1', 'nbsp: 1', '\uacf5\uc9c0\uc0ac\ud56d: 1', '2013\ub144: 1', '\uc7ac\uacf5\uc9c0: 1', '\uc5f0\uad6c\uc2e4\uc18c\uac1c: 1', '\ubaa8\uc9d1\uc694\uac15: 1', '\ucde8\uc5c5\uac8c\uc2dc\ud310: 1', '\ud559\uc220\uc81c: 1', '2014: 32', '\uc2e0\uc785: 2', '\uc778\ub825: 1', '\ub18d\uad6c: 1', '\ubaa8\uc9d1: 2', '\uc2e0\uc785\uc0ac\uc6d0: 1', '\uac15\uc758\uc790\ub8cc\uc2e4: 1', '\ub300\ud559\uc6d0\uc0dd: 1', '\uac1c\ucd5c: 1', '20140327: 1', 'SKT: 1', '\uc878\uc5c5\uc791\ud488: 6', '\ub4f1: 1', '\uc8fc\uc5e0\ud504\ub860\ud2f0\uc5b4: 1', '\uc878\uc5c5: 8', '2015\ub144: 1', '\ub3d9\ubb38\uac8c\uc2dc\ud310: 1', '\ub514\uc9c0\ud138: 1', '20131007: 1', '20140806: 1', '5G: 1', '\ub300\uc0c1: 1', '\uad50\uc218\uc9c4: 1', '\ud559\ubd80\uc0ac\uc9c4\uac94\ub7ec\ub9ac: 1', '\uc704\ud55c: 1', '\uc0c1\ubc18\uae30: 1', '\ud559\uc0dd\ud68c: 1', '\ucd95\uad6c: 3', '4\ub300: 1', 'C: 2', '\ud22c\ud45c: 1', '2014\ub144: 3', '\uc18c: 6', '\ud3ec\uc2a4\ud130\ubc1c\ud45c\uacbd\uc9c4\ub300\ud68c: 1', '\uad6c: 6', '\uc0bc\uc131: 1', '\ubbf8\ub798\ucc3d\uc870\uacfc\ud559\ubd80\uc7a5\uad00\ubc30: 3', '\uc0ac\uc9c4\uac8c\uc2dc\ud310: 1', '\uacf5\ud559\uc778\uc99d\uc548\ub0b4: 1', '\ucef4\ud4e8\ud130SW: 1', '\ud559\uc0dd\ub4e4\uc744: 1', '\uad50\uc721\ubaa9\ud45c: 1', '20120909: 1', '\uc778: 6', '\ucde8\uc5c5\uc870\uc0ac2013: 1', '\ucde8\uc5c5\uc870\uc0ac2014: 1', 'Tmoney\ud55a\uad6d\uc2a4\ub9c8\ud2b8\uce74\ub4dc: 1', '20141001: 1', '20141006: 2', '20141007: 1', '20141004: 1', 'CJ\ud5ec\ub85c\ube44\uc804: 1', '\ucf00\uc774\ube14\uc5c5\uacc4: 1', '\uc138\ub9bc\ud2f0\ub124\uc2a4\uc9c0\uc8fc: 1', '\ucef4\ud4e8\ud130: 12', '\ud558\ubc18\uae30: 1', '\uc6b4\uc601\uac1c\ubc1c: 1', '\ucc3e\uc544\uc624\uc2dc\ub294\uae38: 1', '20121105: 1', '\uc7a5\ud559\uc81c\ub3c4: 1', '\ud648\ud398\uc774\uc9c0: 1', '\ucf64\ud14d\uc2dc\uc2a4\ud15c: 1', '\ub9c8\uac10: 1', '\uccad\ub144\uc778\ud134: 1', '\ucd5c\ucd08: 1', '\uc77c\ubcf8\uae30\uc220\ud0d0\ubc29: 1', '\uc804\uc2dc\ud68c: 1', '2: 46', '20141019: 5', '\ud559\ud68c\uc7a5\ubd80\ud559: 1', '20141015: 1', '20141014: 4', '20141016: 3', '20141010: 1', '20141013: 1', '\uc124\uacc41: 1', '\ud154\ucf54\uc6e8\uc5b4\uc8fc: 1', '\uc911\uac04\uace0\uc0ac: 1', '\uc790\uc720\uac8c\uc2dc\ud310: 1', '20131210: 1', '\uacf5\uace0: 1', '\uc548\ub0b4: 3', '\ub300\ud559\uc6d0\uc18c\uac1c: 1', '\uc6d4\ub4dcIT\uc1fc\uc5d0: 1', '\uacbd\uc9c4\ub300\ud68c: 3', '10: 25', '20140915: 1', '\uc120: 1', '\uc18c\ud504\ud2b8\uc6e8\uc5b4: 3', '12\uc77c: 1', '\ub2e4\uc591\ud55c: 1', '\uc2dc\uc2a4\ud15c: 4', '\uacf5\uc9c0: 3', '\ucef4\ud4e8\ud130HW: 1', '\uc11c\uc2dd\ubc0f\uc591\uc2dd\uc790\ub8cc\uc2e4: 1', '\ud64d\uc9c4\ud45c: 1', '\ucef4\ud4e8\ud130\uacf5\ud559\ubd80: 7', '\uc2e4\uc2b5\uc870\uad50: 1', '\ud3ec\uc0c1\uacbd\uc9c4\ub300\ud68c: 1', '\ud2b9\uc131\ud654\uc0ac\uc5c5\ub2e8: 1', '\ub300\ud559\uc6d0\uac8c\uc2dc\ud310: 1', '20140925: 1', '1: 85', '\uc81c: 3', '\ud3ec: 3', '\uc77c\ubc18\uc790\ub8cc\uc2e4: 1', '\ud559\ubd80\uc0ac\ubb34\uc2e4: 1', '\uacf5\ud559\uc778\uc99d\uac8c\uc2dc\ud310: 1', '\uc18c\ud504\ud2b8\uc6e8\uc5b4\uacf5\ud559: 1', '\uc775\uba85\uac8c\uc2dc\ud310: 1', '\ube0c\ub85c\uc154: 1', '\uc878\uc5c5\uc774\uc218\uc694\uac74: 1', '\uacf5\ud559\uc124\uacc4: 2', '20140930: 1', '\ucef4\ud4e8\ud130\uc2a4\ub9c8\ud2b8IT: 1', '\uace0\uc7a5\uc2e0\uace0\uac8c\uc2dc\ud310: 1', '\ucc44\uc6a9: 1', '\uac1c\ubc1c\ubcf4\uc548: 1', '\ud1b5: 1', '\uad50\uc218\ub2d8\uc758: 1', '\ud639\uc2dc: 1', }\n"
       ]
      }
     ],
     "prompt_number": 5
    },
    {
     "cell_type": "markdown",
     "metadata": {},
     "source": [
      "1)\uc694\uad6c\uc0c1\ud669_ \uc21c\uc218 \ud14d\uc2a4\ud2b8 \uc548\uc5d0 \uc874\uc7ac\ud558\ub294 \ub2e8\uc5b4\ub4e4\uc5d0 \ub300\ud574 string \ubaa8\ub4c8\uc744 \ud65c\uc6a9\ud558\uc5ec \ubaa8\ub4e0 punctuation(\uad6c\ub450\ubb38\uc790)\ub97c \uc644\ubcbd\ud788 \uc81c\uac70\ud558\uc2dc\uc624. \uc800\ubc88\uc5d0 \uad50\uc218\ub2d8\uc774 \uc62c\ub824 \uc8fc\uc2e0 \uc18c\uc2a4\ub97c \uc0ac\uc6a9\ud558\uc5ec string\uc744 import \ud558\uace0 k = string.puntuation\ub97c \uc774\uc6a9\ud558\uc5ec \uad6c\ub450\ubb38\uc790\ub97c \uad6c\ubd84 \ud558\uc600\ub2e4.\n",
      "\uc9c0\uc6cc\uc9c0\uc9c0 \uc54a\ub294\uac74 k.append()\ub97c \uc774\uc6a9\ud558\uc5ec \uad6c\ub450 \ubb38\uc790\ub97c \uc81c\uac70\ud558\uc600\uc2b5\ub2c8\ub2e4.\n",
      "2)\uc694\uad6c\uc0c1\ud669_ \uc0ac\uc804 \ud615\uc2dd\uc73c\ub85c \ucd9c\ub825\n",
      "new_src\uc5d0\uc11c tmp_list[x]\uac00 \uba87\ubc88 \uc0ac\uc6a9\ub418\uc5c8\ub294\uc9c0 \uc800\uc7a5\ud55c\ub2e4.\n",
      "tmp_list\ub294 \ud0a4\uac00 \ub418\uace0,value\ub294 \uac12\uc774 \ub41c\ub2e4. for\ubb38\uc744 \uc774\uc6a9\ud558\uc5ec \uc0ac\uc804\ud615\uc2dd\uacfc \uc720\uc0ac\ud558\uac8c \ucd9c\ub825\ub418\uac8c \ud558\uc600\uc2b5\ub2c8\ub2e4.(for x in range(len(tmp_list)\uc640 for key in dic.keys() \ub97c \uc774\uc6a9\ud574\uc11c)"
     ]
    },
    {
     "cell_type": "markdown",
     "metadata": {},
     "source": [
      "<h1>\ub290\ub080\uc810</h1>\n",
      "\ucc98\uc74c\uc5d0 print \ucd9c\ub825\ud558\ub294\uac83\uc740 \uc26c\uc6e0\ub294\ub370 \uc5b4\ub824\uc6b4 \ud30c\uc774\uc36c \ubb38\ubc95\uc774 \uc775\uc219\ud558\uc9c0 \uc54a\uc740\uac70 \uac19\uc2b5\ub2c8\ub2e4. \uc870\uae08\uc529 \ub354 \uacf5\ubd80\ud558\uba74\uc11c \ub354 \uc798 \ud558\ub3c4\ub85d \uacf5\ubd80\ud558\uaca0\uc2b5\ub2c8\ub2e4."
     ]
    },
    {
     "cell_type": "code",
     "collapsed": false,
     "input": [],
     "language": "python",
     "metadata": {},
     "outputs": []
    }
   ],
   "metadata": {}
  }
 ]
}